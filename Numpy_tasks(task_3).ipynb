{
  "cells": [
    {
      "cell_type": "markdown",
      "metadata": {
        "id": "I7_W4-j_bmnd"
      },
      "source": [
        "# Numpy\n",
        "\n"
      ]
    },
    {
      "cell_type": "markdown",
      "metadata": {
        "id": "f7ph0kqPbmno"
      },
      "source": [
        "#### 1. Import the numpy package under the name `np` (★☆☆) \n",
        "(**hint**: import … as …)"
      ]
    },
    {
      "cell_type": "code",
      "execution_count": 1,
      "metadata": {
        "collapsed": true,
        "id": "ZX1uSWSPbmns"
      },
      "outputs": [],
      "source": [
        "import numpy as np"
      ]
    },
    {
      "cell_type": "markdown",
      "metadata": {
        "id": "3GaFb2TQbmnu"
      },
      "source": [
        "#### 2. Print the numpy version and the configuration (★☆☆) \n",
        "(**hint**: np.\\_\\_version\\_\\_, np.show\\_config)"
      ]
    },
    {
      "cell_type": "code",
      "execution_count": 2,
      "metadata": {
        "id": "kMrJImjQbmnw",
        "colab": {
          "base_uri": "https://localhost:8080/",
          "height": 35
        },
        "outputId": "e2ec77ce-c543-4312-ce1c-e9c21f76a45b"
      },
      "outputs": [
        {
          "output_type": "execute_result",
          "data": {
            "text/plain": [
              "'1.21.6'"
            ],
            "application/vnd.google.colaboratory.intrinsic+json": {
              "type": "string"
            }
          },
          "metadata": {},
          "execution_count": 2
        }
      ],
      "source": [
        "np.__version__"
      ]
    },
    {
      "cell_type": "markdown",
      "metadata": {
        "id": "SiCQqC-jbmnx"
      },
      "source": [
        "#### 3. Create a null vector of size 10 (★☆☆) \n",
        "(**hint**: np.zeros)"
      ]
    },
    {
      "cell_type": "code",
      "execution_count": 3,
      "metadata": {
        "id": "6leWMPjxbmnz",
        "colab": {
          "base_uri": "https://localhost:8080/"
        },
        "outputId": "44e3de14-43e2-407b-f2dc-d75ef96f1e9e"
      },
      "outputs": [
        {
          "output_type": "execute_result",
          "data": {
            "text/plain": [
              "array([0., 0., 0., 0., 0., 0., 0., 0., 0., 0.])"
            ]
          },
          "metadata": {},
          "execution_count": 3
        }
      ],
      "source": [
        "np.zeros(10)"
      ]
    },
    {
      "cell_type": "markdown",
      "metadata": {
        "id": "Jb-SWbiDbmn1"
      },
      "source": [
        "#### 4.  How to find the memory size of any array (★☆☆) \n",
        "(**hint**: size, itemsize)"
      ]
    },
    {
      "cell_type": "code",
      "source": [
        " a = np.array([1,2,3])\n",
        " msa = a.size * a.itemsize\n",
        " print(msa)"
      ],
      "metadata": {
        "id": "n8pFSoGTiixZ",
        "colab": {
          "base_uri": "https://localhost:8080/"
        },
        "outputId": "3906d12d-5a23-4eff-f48a-280359ae5fe4"
      },
      "execution_count": 4,
      "outputs": [
        {
          "output_type": "stream",
          "name": "stdout",
          "text": [
            "24\n"
          ]
        }
      ]
    },
    {
      "cell_type": "markdown",
      "metadata": {
        "id": "MAVkmvPSbmn5"
      },
      "source": [
        "#### 5.  How to get the documentation of the numpy add function from the command line? (★☆☆) \n",
        "(**hint**: np.info)"
      ]
    },
    {
      "cell_type": "code",
      "execution_count": 4,
      "metadata": {
        "collapsed": true,
        "id": "cHX_B9Dkbmn6"
      },
      "outputs": [],
      "source": []
    },
    {
      "cell_type": "markdown",
      "metadata": {
        "id": "xxGEYED-bmn7"
      },
      "source": [
        "#### 6.  Create a null vector of size 10 but the fifth value which is 1 (★☆☆) \n",
        "(**hint**: array\\[4\\])"
      ]
    },
    {
      "cell_type": "code",
      "execution_count": 5,
      "metadata": {
        "id": "vci_MrvDbmn8",
        "colab": {
          "base_uri": "https://localhost:8080/"
        },
        "outputId": "e8ef881b-a963-4a2d-9002-316a76a9c3e7"
      },
      "outputs": [
        {
          "output_type": "stream",
          "name": "stdout",
          "text": [
            "[0. 0. 0. 0. 1. 0. 0. 0. 0. 0.]\n"
          ]
        }
      ],
      "source": [
        "a = np.zeros(10)\n",
        "a[4] = 1\n",
        "print(a)"
      ]
    },
    {
      "cell_type": "markdown",
      "metadata": {
        "id": "eGcQ8O3bbmn9"
      },
      "source": [
        "#### 7.  Create a vector with values ranging from 10 to 49 (★☆☆) \n",
        "(**hint**: np.arange)"
      ]
    },
    {
      "cell_type": "code",
      "execution_count": 6,
      "metadata": {
        "id": "96UwOWfnbmn-"
      },
      "outputs": [],
      "source": [
        "a = np.arange(10,50)"
      ]
    },
    {
      "cell_type": "markdown",
      "metadata": {
        "id": "8V5C47S0bmn_"
      },
      "source": [
        "#### 8.  Reverse a vector (first element becomes last) (★☆☆) \n",
        "(**hint**: array\\[::-1\\])"
      ]
    },
    {
      "cell_type": "code",
      "execution_count": 7,
      "metadata": {
        "id": "saq319Jpbmn_",
        "colab": {
          "base_uri": "https://localhost:8080/"
        },
        "outputId": "52327a54-42fe-435e-c103-22bb73aadef5"
      },
      "outputs": [
        {
          "output_type": "execute_result",
          "data": {
            "text/plain": [
              "array([[1, 2, 3],\n",
              "       [4, 5, 6],\n",
              "       [7, 8, 9]])"
            ]
          },
          "metadata": {},
          "execution_count": 7
        }
      ],
      "source": [
        "Arr = np.array([1,2,3,4,5,6,7,8,9])\n",
        "Arr = Arr.reshape(3,3)\n",
        "Arr"
      ]
    },
    {
      "cell_type": "markdown",
      "metadata": {
        "id": "vhrsRfobbmoA"
      },
      "source": [
        "#### 9.  Create a 3x3 matrix with values ranging from 0 to 8 (★☆☆) \n",
        "(**hint**: reshape)"
      ]
    },
    {
      "cell_type": "code",
      "execution_count": 8,
      "metadata": {
        "id": "CVOauK6WbmoA",
        "colab": {
          "base_uri": "https://localhost:8080/"
        },
        "outputId": "fcf1d396-1a7e-46e0-aac6-7614ccf1e002"
      },
      "outputs": [
        {
          "output_type": "execute_result",
          "data": {
            "text/plain": [
              "array([[0, 1, 2],\n",
              "       [3, 4, 5],\n",
              "       [6, 7, 8]])"
            ]
          },
          "metadata": {},
          "execution_count": 8
        }
      ],
      "source": [
        "Arr = np.arange(9)\n",
        "Arr = Arr.reshape(3,3)\n",
        "Arr"
      ]
    },
    {
      "cell_type": "markdown",
      "metadata": {
        "id": "sQSx6McsbmoB"
      },
      "source": [
        "#### 10. Find indices of non-zero elements from \\[1,2,0,0,4,0\\] (★☆☆) \n",
        "(**hint**: np.nonzero)"
      ]
    },
    {
      "cell_type": "code",
      "execution_count": 9,
      "metadata": {
        "id": "wlblEjeNbmoC",
        "colab": {
          "base_uri": "https://localhost:8080/"
        },
        "outputId": "462a74ba-3419-49e3-cb50-93dec8d1d882"
      },
      "outputs": [
        {
          "output_type": "execute_result",
          "data": {
            "text/plain": [
              "(array([0, 1, 4]),)"
            ]
          },
          "metadata": {},
          "execution_count": 9
        }
      ],
      "source": [
        "a = np.array([1,2,0,0,4,0])\n",
        "#a.nonzero()\n",
        "np.nonzero(a)"
      ]
    },
    {
      "cell_type": "markdown",
      "metadata": {
        "id": "jFh-rdQDbmoC"
      },
      "source": [
        "#### 11. Create a 3x3 identity matrix (★☆☆) \n",
        "(**hint**: np.eye)"
      ]
    },
    {
      "cell_type": "code",
      "execution_count": 10,
      "metadata": {
        "id": "7yl8cGGSbmoD",
        "colab": {
          "base_uri": "https://localhost:8080/"
        },
        "outputId": "f4398ec1-c58e-4919-dd62-1a91c561b413"
      },
      "outputs": [
        {
          "output_type": "execute_result",
          "data": {
            "text/plain": [
              "array([[1., 0., 0.],\n",
              "       [0., 1., 0.],\n",
              "       [0., 0., 1.]])"
            ]
          },
          "metadata": {},
          "execution_count": 10
        }
      ],
      "source": [
        "np.eye(3)"
      ]
    },
    {
      "cell_type": "markdown",
      "metadata": {
        "id": "ppUx1h3nbmoD"
      },
      "source": [
        "#### 12. Create a 3x3x3 array with random values (★☆☆) \n",
        "(**hint**: np.random.random)"
      ]
    },
    {
      "cell_type": "code",
      "execution_count": 11,
      "metadata": {
        "collapsed": true,
        "id": "20fZNIzSbmoD",
        "colab": {
          "base_uri": "https://localhost:8080/"
        },
        "outputId": "7ead0b4d-8cbf-4683-890a-c39fa6a5ca0f"
      },
      "outputs": [
        {
          "output_type": "execute_result",
          "data": {
            "text/plain": [
              "(3, 3, 3)"
            ]
          },
          "metadata": {},
          "execution_count": 11
        }
      ],
      "source": [
        "arr = np.random.random(27).reshape(3,3,3)\n",
        "arr.shape\n",
        "\n"
      ]
    },
    {
      "cell_type": "markdown",
      "metadata": {
        "id": "MYchrqedbmoE"
      },
      "source": [
        "#### 13. Create a 10x10 array with random values and find the minimum and maximum values (★☆☆) \n",
        "(**hint**: min, max)"
      ]
    },
    {
      "cell_type": "code",
      "execution_count": 12,
      "metadata": {
        "id": "zdapzqH1bmoE",
        "colab": {
          "base_uri": "https://localhost:8080/"
        },
        "outputId": "46142970-07da-43d1-80df-dab46773064f"
      },
      "outputs": [
        {
          "output_type": "stream",
          "name": "stdout",
          "text": [
            "6\n",
            "991\n"
          ]
        }
      ],
      "source": [
        "arr = np.random.randint(1, 1000 , 100).reshape(10,10)\n",
        "print(arr.min())\n",
        "print(arr.max())"
      ]
    },
    {
      "cell_type": "markdown",
      "metadata": {
        "id": "32Te-cMnbmoE"
      },
      "source": [
        "#### 14. Create a random vector of size 30 and find the mean value (★☆☆) \n",
        "(**hint**: mean)"
      ]
    },
    {
      "cell_type": "code",
      "execution_count": 13,
      "metadata": {
        "id": "EzHswszkbmoF",
        "colab": {
          "base_uri": "https://localhost:8080/"
        },
        "outputId": "11984004-2b9f-4cc3-896c-bb4fd733b67e"
      },
      "outputs": [
        {
          "output_type": "execute_result",
          "data": {
            "text/plain": [
              "0.440246666703447"
            ]
          },
          "metadata": {},
          "execution_count": 13
        }
      ],
      "source": [
        "a = np.random.random(30)\n",
        "a.mean()"
      ]
    },
    {
      "cell_type": "markdown",
      "metadata": {
        "id": "TlU3y3oEbmoF"
      },
      "source": [
        "#### 15. Create a 2d array with 1 on the border and 0 inside (★☆☆) \n",
        "(**hint**: array\\[1:-1, 1:-1\\])"
      ]
    },
    {
      "cell_type": "code",
      "execution_count": 13,
      "metadata": {
        "id": "hi9PlALabmoF"
      },
      "outputs": [],
      "source": [
        "    \n",
        "    "
      ]
    },
    {
      "cell_type": "markdown",
      "metadata": {
        "id": "mD0hf6b7bmoG"
      },
      "source": [
        "#### 16. How to add a border (filled with 0's) around an existing array? (★☆☆) \n",
        "(**hint**: np.pad)"
      ]
    },
    {
      "cell_type": "code",
      "execution_count": 13,
      "metadata": {
        "id": "YhmXUTtpbmoG"
      },
      "outputs": [],
      "source": []
    },
    {
      "cell_type": "markdown",
      "metadata": {
        "id": "pZjLWITZbmoG"
      },
      "source": [
        "#### 17. What is the result of the following expression? (★☆☆) \n",
        "(**hint**: NaN = not a number, inf = infinity)"
      ]
    },
    {
      "cell_type": "markdown",
      "metadata": {
        "id": "scj-k83ybmoH"
      },
      "source": [
        "```python\n",
        "0 * np.nan\n",
        "np.nan == np.nan\n",
        "np.inf > np.nan\n",
        "np.nan - np.nan\n",
        "0.3 == 3 * 0.1\n",
        "```"
      ]
    },
    {
      "cell_type": "code",
      "execution_count": 14,
      "metadata": {
        "id": "B8uMvBeKbmoI",
        "colab": {
          "base_uri": "https://localhost:8080/",
          "height": 35
        },
        "outputId": "77b889a0-1f2b-4bc5-df01-c02dae142070"
      },
      "outputs": [
        {
          "output_type": "execute_result",
          "data": {
            "text/plain": [
              "'Answers are \\nnan\\ntrue\\nFalse\\nnan\\nFalse'"
            ],
            "application/vnd.google.colaboratory.intrinsic+json": {
              "type": "string"
            }
          },
          "metadata": {},
          "execution_count": 14
        }
      ],
      "source": [
        "\"\"\"Answers are \n",
        "nan\n",
        "true\n",
        "False\n",
        "nan\n",
        "False\"\"\""
      ]
    },
    {
      "cell_type": "markdown",
      "metadata": {
        "id": "C-mXHuIZbmoI"
      },
      "source": [
        "#### 18. Create a 5x5 matrix with values 1,2,3,4 just below the diagonal (★☆☆) \n",
        "(**hint**: np.diag)"
      ]
    },
    {
      "cell_type": "code",
      "execution_count": 15,
      "metadata": {
        "id": "C5ziovNQbmoJ",
        "colab": {
          "base_uri": "https://localhost:8080/"
        },
        "outputId": "503f3384-3576-4b2d-9f0e-c9604076fa89"
      },
      "outputs": [
        {
          "output_type": "execute_result",
          "data": {
            "text/plain": [
              "array([[1, 0, 0, 0],\n",
              "       [0, 2, 0, 0],\n",
              "       [0, 0, 3, 0],\n",
              "       [0, 0, 0, 4]])"
            ]
          },
          "metadata": {},
          "execution_count": 15
        }
      ],
      "source": [
        "import numpy as np\n",
        "arr = np.diag(np.arange(1,5),)\n",
        "arr"
      ]
    },
    {
      "cell_type": "markdown",
      "metadata": {
        "id": "QFccOEzEbmoJ"
      },
      "source": [
        "#### 19. Create a 8x8 matrix and fill it with a checkerboard pattern (★☆☆) \n",
        "(**hint**: array\\[::2\\])"
      ]
    },
    {
      "cell_type": "code",
      "execution_count": 15,
      "metadata": {
        "id": "aKa1GhfhbmoK"
      },
      "outputs": [],
      "source": []
    },
    {
      "cell_type": "markdown",
      "metadata": {
        "id": "S8VII_SrbmoK"
      },
      "source": [
        "#### 20. Consider a (6,7,8) shape array, what is the index (x,y,z) of the 100th element? \n",
        "(**hint**: np.unravel_index)"
      ]
    },
    {
      "cell_type": "code",
      "execution_count": 16,
      "metadata": {
        "id": "45SL88fEbmoL",
        "colab": {
          "base_uri": "https://localhost:8080/"
        },
        "outputId": "5b36de89-1ffe-489a-9682-8c830b5cf306"
      },
      "outputs": [
        {
          "output_type": "execute_result",
          "data": {
            "text/plain": [
              "(1, 5, 4)"
            ]
          },
          "metadata": {},
          "execution_count": 16
        }
      ],
      "source": [
        "np.unravel_index(100 , (6,7,8))"
      ]
    },
    {
      "cell_type": "markdown",
      "metadata": {
        "id": "7C1MO-e0bmoL"
      },
      "source": [
        "#### 21. Create a checkerboard 8x8 matrix using the tile function (★☆☆) \n",
        "(**hint**: np.tile)"
      ]
    },
    {
      "cell_type": "code",
      "execution_count": 17,
      "metadata": {
        "id": "iMkvafDnbmoM",
        "colab": {
          "base_uri": "https://localhost:8080/"
        },
        "outputId": "215919c3-3981-4794-e2f5-c8ae09049854"
      },
      "outputs": [
        {
          "output_type": "stream",
          "name": "stdout",
          "text": [
            "(8, 8)\n"
          ]
        },
        {
          "output_type": "execute_result",
          "data": {
            "text/plain": [
              "array([[1, 0, 1, 0, 1, 0, 1, 0],\n",
              "       [1, 0, 1, 0, 1, 0, 1, 0],\n",
              "       [1, 0, 1, 0, 1, 0, 1, 0],\n",
              "       [1, 0, 1, 0, 1, 0, 1, 0],\n",
              "       [0, 1, 0, 1, 0, 1, 0, 1],\n",
              "       [0, 1, 0, 1, 0, 1, 0, 1],\n",
              "       [0, 1, 0, 1, 0, 1, 0, 1],\n",
              "       [0, 1, 0, 1, 0, 1, 0, 1]])"
            ]
          },
          "metadata": {},
          "execution_count": 17
        }
      ],
      "source": [
        "row_even =np.array([0, 1, 0, 1, 0, 1, 0, 1])\n",
        "row_odd = np.array([1, 0, 1, 0, 1, 0, 1, 0])\n",
        "arr_check_board1 = np.tile(row_even ,(4 , 1))\n",
        "arr_check_board2 = np.tile(row_odd ,(4 , 1))\n",
        "\n",
        "appended_arr = np.append(arr_check_board1 , arr_check_board2 , axis = 0)\n",
        "print(appended_arr.shape)\n",
        "a1 = np.flipud(appended_arr)\n",
        "a1\n"
      ]
    },
    {
      "cell_type": "markdown",
      "metadata": {
        "id": "andiaMZtbmoM"
      },
      "source": [
        "#### 22. Normalize a 5x5 random matrix (★☆☆) \n",
        "(**hint**: (x - min) / (max - min))"
      ]
    },
    {
      "cell_type": "code",
      "execution_count": 18,
      "metadata": {
        "id": "3LPbLktKbmoN",
        "colab": {
          "base_uri": "https://localhost:8080/"
        },
        "outputId": "a5bfe73b-4876-4832-f1ef-cc8324138989"
      },
      "outputs": [
        {
          "output_type": "stream",
          "name": "stdout",
          "text": [
            "[[1.         0.44444444 0.77777778 0.11111111 0.66666667]\n",
            " [0.33333333 0.88888889 0.         0.33333333 0.55555556]\n",
            " [0.77777778 0.55555556 0.55555556 0.33333333 0.66666667]\n",
            " [0.55555556 0.66666667 0.88888889 0.44444444 0.22222222]\n",
            " [0.44444444 0.11111111 0.66666667 0.22222222 0.22222222]]\n"
          ]
        }
      ],
      "source": [
        "arr = np.random.randint(10 , size = 25).reshape(5,5)\n",
        "#](arr)\n",
        "minimum = np.min(arr)\n",
        "maximum = np.max(arr)\n",
        "sub = maximum -minimum\n",
        "arr = (arr - minimum)/sub\n",
        "\n",
        "print(arr)"
      ]
    },
    {
      "cell_type": "markdown",
      "metadata": {
        "id": "hsSxTF8EbmoN"
      },
      "source": [
        "#### 23. Create a custom dtype that describes a color as four unsigned bytes (RGBA) (★☆☆) \n",
        "(**hint**: np.dtype)"
      ]
    },
    {
      "cell_type": "code",
      "execution_count": 18,
      "metadata": {
        "collapsed": true,
        "id": "MOnkn5LjbmoO"
      },
      "outputs": [],
      "source": []
    },
    {
      "cell_type": "markdown",
      "metadata": {
        "id": "ja6qXKxXbmoO"
      },
      "source": [
        "#### 24. Multiply a 5x3 matrix by a 3x2 matrix (real matrix product) (★☆☆) \n",
        "(**hint**: np.dot | @)"
      ]
    },
    {
      "cell_type": "code",
      "execution_count": 19,
      "metadata": {
        "id": "hIOox0NxbmoO"
      },
      "outputs": [],
      "source": [
        "arr1 = np.random.randint(10 , size = 15 ).reshape(5,3)\n",
        "arr2 = np.random.randint(10 , size = 6).reshape(3,2)\n",
        "mul_arr = arr1 @ arr2"
      ]
    },
    {
      "cell_type": "markdown",
      "metadata": {
        "id": "xtVyarU1bmoP"
      },
      "source": [
        "#### 25. Given a 1D array, negate all elements which are between 3 and 8, in place. (★☆☆) \n",
        "(**hint**: >, <=)"
      ]
    },
    {
      "cell_type": "code",
      "execution_count": 20,
      "metadata": {
        "id": "YyYb0qp5bmoP",
        "colab": {
          "base_uri": "https://localhost:8080/"
        },
        "outputId": "dbd407e0-f5dd-4952-edea-754093512de6"
      },
      "outputs": [
        {
          "output_type": "execute_result",
          "data": {
            "text/plain": [
              "array([90, 59,  2,  1, 10, 12, 13])"
            ]
          },
          "metadata": {},
          "execution_count": 20
        }
      ],
      "source": [
        "arr = np.array([4,5,90,59,3,4,2,1,10,12,13])\n",
        "arr_1= np.where((arr>2) & (arr<8))\n",
        "np.delete(arr , list(arr_1))\n"
      ]
    },
    {
      "cell_type": "markdown",
      "metadata": {
        "id": "xkynMNPIbmoP"
      },
      "source": [
        "#### 26. What is the output of the following script? (★☆☆) \n",
        "(**hint**: np.sum)"
      ]
    },
    {
      "cell_type": "markdown",
      "metadata": {
        "id": "M3CKhZa3bmoQ"
      },
      "source": [
        "```python\n",
        "# Author: Jake VanderPlas\n",
        "\n",
        "print(sum(range(5),-1))\n",
        "from numpy import *\n",
        "print(sum(range(5),-1))\n",
        "```"
      ]
    },
    {
      "cell_type": "code",
      "execution_count": 21,
      "metadata": {
        "id": "JP1MY7ZmbmoQ",
        "colab": {
          "base_uri": "https://localhost:8080/"
        },
        "outputId": "fa03a49b-9d42-42b8-f2ad-6c17e208da0e"
      },
      "outputs": [
        {
          "output_type": "stream",
          "name": "stdout",
          "text": [
            "9\n",
            "10\n"
          ]
        }
      ],
      "source": [
        "print(sum(range(5),-1))\n",
        "from numpy import *\n",
        "print(sum(range(5),-1))\n"
      ]
    },
    {
      "cell_type": "markdown",
      "metadata": {
        "id": "6NwUVQh6bmoR"
      },
      "source": [
        "#### 27. Consider an integer vector Z, which of these expressions are legal? (★☆☆)"
      ]
    },
    {
      "cell_type": "markdown",
      "metadata": {
        "id": "ktE3MbTEbmoR"
      },
      "source": [
        "```python\n",
        "Z**Z\n",
        "2 << Z >> 2\n",
        "Z <- Z\n",
        "1j*Z\n",
        "Z/1/1\n",
        "Z<Z>Z\n",
        "```"
      ]
    },
    {
      "cell_type": "code",
      "execution_count": 22,
      "metadata": {
        "id": "ZVc5IqlPbmoS",
        "colab": {
          "base_uri": "https://localhost:8080/"
        },
        "outputId": "25aaa3d4-d50d-4faf-9101-1996a49841c4"
      },
      "outputs": [
        {
          "output_type": "stream",
          "name": "stdout",
          "text": [
            "[  1   4  27 256]\n",
            "[1 2 4 8]\n",
            "[1. 2. 3. 4.]\n"
          ]
        }
      ],
      "source": [
        "z = np.array([1,2,3,4])\n",
        "print(z**z)\n",
        "print(2 << z >>2)\n",
        "1j*z\n",
        "print(z/1/1)"
      ]
    },
    {
      "cell_type": "markdown",
      "metadata": {
        "id": "NIpkxK4cbmoS"
      },
      "source": [
        "#### 28. What are the result of the following expressions?"
      ]
    },
    {
      "cell_type": "markdown",
      "metadata": {
        "id": "b4JQ808rbmoS"
      },
      "source": [
        "```python\n",
        "np.array(0) / np.array(0)\n",
        "np.array(0) // np.array(0)\n",
        "np.array([np.nan]).astype(int).astype(float)\n",
        "```"
      ]
    },
    {
      "cell_type": "code",
      "execution_count": 23,
      "metadata": {
        "id": "UM8EtYRAbmoT",
        "colab": {
          "base_uri": "https://localhost:8080/"
        },
        "outputId": "361060e1-143b-40ec-a36b-4ae1e55fbd65"
      },
      "outputs": [
        {
          "output_type": "stream",
          "name": "stderr",
          "text": [
            "<ipython-input-23-ac336ffe27da>:1: RuntimeWarning: invalid value encountered in true_divide\n",
            "  np.array(0) / np.array(0)   #output nan\n",
            "<ipython-input-23-ac336ffe27da>:2: RuntimeWarning: divide by zero encountered in floor_divide\n",
            "  np.array(0) // np.array(0)  # 0\n"
          ]
        },
        {
          "output_type": "execute_result",
          "data": {
            "text/plain": [
              "array([-9.22337204e+18])"
            ]
          },
          "metadata": {},
          "execution_count": 23
        }
      ],
      "source": [
        "np.array(0) / np.array(0)   #output nan\n",
        "np.array(0) // np.array(0)  # 0\n",
        "np.array([np.nan]).astype(int).astype(float)       # array \n"
      ]
    },
    {
      "cell_type": "markdown",
      "metadata": {
        "id": "20tJEByPbmoT"
      },
      "source": [
        "#### 29. How to round away from zero a float array ? (★☆☆) \n",
        "(**hint**: np.uniform, np.copysign, np.ceil, np.abs)"
      ]
    },
    {
      "cell_type": "code",
      "execution_count": 23,
      "metadata": {
        "id": "Lz9ZdftPbmoT"
      },
      "outputs": [],
      "source": []
    },
    {
      "cell_type": "markdown",
      "metadata": {
        "id": "Du-7vQ2YbmoT"
      },
      "source": [
        "#### 30. How to find common values between two arrays? (★☆☆) \n",
        "(**hint**: np.intersect1d)"
      ]
    },
    {
      "cell_type": "code",
      "execution_count": 24,
      "metadata": {
        "id": "L9pvziojbmoU",
        "colab": {
          "base_uri": "https://localhost:8080/"
        },
        "outputId": "161a5e1e-5c47-4dad-d8b9-421f7b7d71b9"
      },
      "outputs": [
        {
          "output_type": "execute_result",
          "data": {
            "text/plain": [
              "array([1, 3])"
            ]
          },
          "metadata": {},
          "execution_count": 24
        }
      ],
      "source": [
        "arr1 = np.array([1,2,3,7,8])\n",
        "arr2 = np.array([1,3,90,9])\n",
        "np.intersect1d(arr1 , arr2)\n"
      ]
    },
    {
      "cell_type": "markdown",
      "metadata": {
        "id": "EsCGDTsubmoU"
      },
      "source": [
        "#### 31. How to ignore all numpy warnings (not recommended)? (★☆☆) \n",
        "(**hint**: np.seterr, np.errstate)"
      ]
    },
    {
      "cell_type": "code",
      "execution_count": 25,
      "metadata": {
        "id": "1OxziZH0bmoU",
        "colab": {
          "base_uri": "https://localhost:8080/"
        },
        "outputId": "2bfcefd2-b2bf-4a77-8a5b-cd43ece53655"
      },
      "outputs": [
        {
          "output_type": "execute_result",
          "data": {
            "text/plain": [
              "<numpy.errstate at 0x7efcd4644340>"
            ]
          },
          "metadata": {},
          "execution_count": 25
        }
      ],
      "source": [
        "np.seterr(all=\"ignore\")\n",
        "np.errstate()  #parameters  for devide , over ,under , invalid "
      ]
    },
    {
      "cell_type": "markdown",
      "metadata": {
        "id": "pYyv0I4WbmoU"
      },
      "source": [
        "#### 32. Is the following expressions true? (★☆☆) \n",
        "(**hint**: imaginary number)"
      ]
    },
    {
      "cell_type": "markdown",
      "metadata": {
        "id": "V_zYHoAEbmoV"
      },
      "source": [
        "```python\n",
        "np.sqrt(-1) == np.emath.sqrt(-1)\n",
        "```"
      ]
    },
    {
      "cell_type": "markdown",
      "source": [
        "No , given Expression return False  "
      ],
      "metadata": {
        "id": "kAlYSZvZ4mRe"
      }
    },
    {
      "cell_type": "markdown",
      "metadata": {
        "id": "LnjWAHwybmoV"
      },
      "source": [
        "#### 33. How to get the dates of yesterday, today and tomorrow? (★☆☆) \n",
        "(**hint**: np.datetime64, np.timedelta64)"
      ]
    },
    {
      "cell_type": "code",
      "execution_count": 26,
      "metadata": {
        "collapsed": true,
        "id": "hzrt9ULQbmoW",
        "colab": {
          "base_uri": "https://localhost:8080/"
        },
        "outputId": "c332d049-e9a9-48f9-a982-e5de219b86ee"
      },
      "outputs": [
        {
          "output_type": "execute_result",
          "data": {
            "text/plain": [
              "numpy.datetime64('NaT')"
            ]
          },
          "metadata": {},
          "execution_count": 26
        }
      ],
      "source": [
        "np.datetime64()"
      ]
    },
    {
      "cell_type": "markdown",
      "metadata": {
        "id": "p7QUSRzybmoX"
      },
      "source": [
        "#### 34. How to get all the dates corresponding to the month of July 2016? (★★☆) \n",
        "(**hint**: np.arange(dtype=datetime64\\['D'\\]))"
      ]
    },
    {
      "cell_type": "code",
      "execution_count": 32,
      "metadata": {
        "id": "CizAFlZjbmoZ",
        "colab": {
          "base_uri": "https://localhost:8080/"
        },
        "outputId": "c01137a4-70ea-482d-cfd2-a5ab71a6c509"
      },
      "outputs": [
        {
          "output_type": "execute_result",
          "data": {
            "text/plain": [
              "array(['2016-07-01', '2016-07-02', '2016-07-03', '2016-07-04',\n",
              "       '2016-07-05', '2016-07-06', '2016-07-07', '2016-07-08',\n",
              "       '2016-07-09', '2016-07-10', '2016-07-11', '2016-07-12',\n",
              "       '2016-07-13', '2016-07-14', '2016-07-15', '2016-07-16',\n",
              "       '2016-07-17', '2016-07-18', '2016-07-19', '2016-07-20',\n",
              "       '2016-07-21', '2016-07-22', '2016-07-23', '2016-07-24',\n",
              "       '2016-07-25', '2016-07-26', '2016-07-27', '2016-07-28',\n",
              "       '2016-07-29', '2016-07-30', '2016-07-31'], dtype='datetime64[D]')"
            ]
          },
          "metadata": {},
          "execution_count": 32
        }
      ],
      "source": [
        "np.arange('2016-07','2016-08', dtype='datetime64[D]')"
      ]
    },
    {
      "cell_type": "markdown",
      "metadata": {
        "id": "7kobdxtdbmoa"
      },
      "source": [
        "#### 35. How to compute ((A+B)\\*(-A/2)) in place (without copy)? (★★☆) \n",
        "(**hint**: np.add(out=), np.negative(out=), np.multiply(out=), np.divide(out=))"
      ]
    },
    {
      "cell_type": "code",
      "execution_count": 33,
      "metadata": {
        "id": "O-Yb_vB8bmob",
        "colab": {
          "base_uri": "https://localhost:8080/",
          "height": 218
        },
        "outputId": "c6799446-92dd-4b95-ba18-f8a95c20644b"
      },
      "outputs": [
        {
          "output_type": "error",
          "ename": "TypeError",
          "evalue": "ignored",
          "traceback": [
            "\u001b[0;31m---------------------------------------------------------------------------\u001b[0m",
            "\u001b[0;31mTypeError\u001b[0m                                 Traceback (most recent call last)",
            "\u001b[0;32m<ipython-input-33-ea188a889c97>\u001b[0m in \u001b[0;36m<module>\u001b[0;34m\u001b[0m\n\u001b[1;32m      2\u001b[0m \u001b[0mB\u001b[0m \u001b[0;34m=\u001b[0m \u001b[0mnp\u001b[0m\u001b[0;34m.\u001b[0m\u001b[0marray\u001b[0m\u001b[0;34m(\u001b[0m\u001b[0;34m[\u001b[0m\u001b[0;34m[\u001b[0m\u001b[0;36m1\u001b[0m\u001b[0;34m,\u001b[0m\u001b[0;36m2\u001b[0m\u001b[0;34m,\u001b[0m\u001b[0;36m3\u001b[0m\u001b[0;34m]\u001b[0m \u001b[0;34m,\u001b[0m \u001b[0;34m[\u001b[0m\u001b[0;36m4\u001b[0m\u001b[0;34m,\u001b[0m\u001b[0;36m5\u001b[0m\u001b[0;34m,\u001b[0m\u001b[0;36m6\u001b[0m\u001b[0;34m,\u001b[0m\u001b[0;34m]\u001b[0m \u001b[0;34m,\u001b[0m\u001b[0;34m[\u001b[0m\u001b[0;36m4\u001b[0m\u001b[0;34m,\u001b[0m\u001b[0;36m5\u001b[0m\u001b[0;34m,\u001b[0m\u001b[0;36m6\u001b[0m\u001b[0;34m]\u001b[0m \u001b[0;34m]\u001b[0m\u001b[0;34m)\u001b[0m\u001b[0;34m\u001b[0m\u001b[0;34m\u001b[0m\u001b[0m\n\u001b[1;32m      3\u001b[0m \u001b[0;34m\u001b[0m\u001b[0m\n\u001b[0;32m----> 4\u001b[0;31m \u001b[0madd_AB\u001b[0m \u001b[0;34m=\u001b[0m \u001b[0mnp\u001b[0m\u001b[0;34m.\u001b[0m\u001b[0mmultiply\u001b[0m\u001b[0;34m(\u001b[0m\u001b[0mnp\u001b[0m\u001b[0;34m.\u001b[0m\u001b[0madd\u001b[0m\u001b[0;34m(\u001b[0m\u001b[0mA\u001b[0m \u001b[0;34m,\u001b[0m \u001b[0mB\u001b[0m\u001b[0;34m)\u001b[0m \u001b[0;34m,\u001b[0m\u001b[0mnp\u001b[0m\u001b[0;34m.\u001b[0m\u001b[0mdivide\u001b[0m\u001b[0;34m(\u001b[0m\u001b[0;34m(\u001b[0m\u001b[0mnp\u001b[0m\u001b[0;34m.\u001b[0m\u001b[0mnegative\u001b[0m\u001b[0;34m(\u001b[0m\u001b[0mA\u001b[0m\u001b[0;34m)\u001b[0m \u001b[0;34m,\u001b[0m \u001b[0mnp\u001b[0m\u001b[0;34m.\u001b[0m\u001b[0marray\u001b[0m\u001b[0;34m(\u001b[0m\u001b[0;34m[\u001b[0m\u001b[0;36m2\u001b[0m\u001b[0;34m]\u001b[0m\u001b[0;34m)\u001b[0m\u001b[0;34m)\u001b[0m\u001b[0;34m)\u001b[0m\u001b[0;34m)\u001b[0m\u001b[0;34m\u001b[0m\u001b[0;34m\u001b[0m\u001b[0m\n\u001b[0m\u001b[1;32m      5\u001b[0m \u001b[0madd_AB\u001b[0m\u001b[0;34m\u001b[0m\u001b[0;34m\u001b[0m\u001b[0m\n",
            "\u001b[0;31mTypeError\u001b[0m: true_divide() takes from 2 to 3 positional arguments but 1 were given"
          ]
        }
      ],
      "source": [
        "A = np.array([[1,2,3] , [4,5,6,] ,[4,5,6] ])\n",
        "B = np.array([[1,2,3] , [4,5,6,] ,[4,5,6] ])\n",
        "\n",
        "add_AB = np.multiply(np.add(A , B) ,np.divide((np.negative(A) , np.array([2]))))\n",
        "add_AB\n"
      ]
    },
    {
      "cell_type": "markdown",
      "metadata": {
        "id": "PhPFwxbLbmob"
      },
      "source": [
        "#### 36. Extract the integer part of a random array using 5 different methods (★★☆) \n",
        "(**hint**: %, np.floor, np.ceil, astype, np.trunc)"
      ]
    },
    {
      "cell_type": "code",
      "execution_count": 35,
      "metadata": {
        "id": "tTyLz9MRbmoc",
        "colab": {
          "base_uri": "https://localhost:8080/"
        },
        "outputId": "cc341926-1386-4f97-8a26-8640a35f0fa7"
      },
      "outputs": [
        {
          "output_type": "stream",
          "name": "stdout",
          "text": [
            "[0. 0. 0. 0. 0.]\n",
            "[1. 1. 1. 1. 1.]\n",
            "[0 0 0 0 0]\n",
            "[0. 0. 0. 0. 0.]\n"
          ]
        }
      ],
      "source": [
        "arr = np.array(np.random.random(size = 5))\n",
        "#arr1 = arr % \n",
        "arr2 = np.floor(arr)\n",
        "arr3 = np.ceil(arr)\n",
        "arr4 = arr.astype('int')\n",
        "arr5 = np.trunc(arr)\n",
        "\n",
        "print(arr2)\n",
        "print(arr3)\n",
        "print(arr4)\n",
        "print(arr5)\n"
      ]
    },
    {
      "cell_type": "markdown",
      "metadata": {
        "id": "OrqYVq-Ebmoe"
      },
      "source": [
        "#### 37. Create a 5x5 matrix with row values ranging from 0 to 4 (★★☆) \n",
        "(**hint**: np.arange)"
      ]
    },
    {
      "cell_type": "code",
      "execution_count": 36,
      "metadata": {
        "id": "dt7tO_aqbmof",
        "colab": {
          "base_uri": "https://localhost:8080/"
        },
        "outputId": "ee1370dc-bf29-4901-ee64-5e2253686f11"
      },
      "outputs": [
        {
          "output_type": "execute_result",
          "data": {
            "text/plain": [
              "array([[0., 1., 2., 3., 4.],\n",
              "       [0., 1., 2., 3., 4.],\n",
              "       [0., 1., 2., 3., 4.],\n",
              "       [0., 1., 2., 3., 4.],\n",
              "       [0., 1., 2., 3., 4.]])"
            ]
          },
          "metadata": {},
          "execution_count": 36
        }
      ],
      "source": [
        "arr_add = np.arange(0,5)\n",
        "zero_arr = np.zeros((5,5))\n",
        "arr_final =  zero_arr + arr_add\n",
        "arr_final"
      ]
    },
    {
      "cell_type": "markdown",
      "metadata": {
        "id": "2tIFFSgMbmog"
      },
      "source": [
        "#### 38. Consider a generator function that generates 10 integers and use it to build an array (★☆☆) \n",
        "(**hint**: np.fromiter)"
      ]
    },
    {
      "cell_type": "code",
      "execution_count": 37,
      "metadata": {
        "id": "bIoKxAPmbmog",
        "colab": {
          "base_uri": "https://localhost:8080/"
        },
        "outputId": "6cc67c21-c62d-47e1-d0de-55dd4d8e1306"
      },
      "outputs": [
        {
          "output_type": "stream",
          "name": "stdout",
          "text": [
            "[ 0.  1.  4.  9. 16. 25.]\n"
          ]
        }
      ],
      "source": [
        "import numpy as np\n",
        "iterable = (x * x for x in range(6))\n",
        "  \n",
        "arr = np.fromiter(iterable, float)\n",
        "  \n",
        "print (arr)\n"
      ]
    },
    {
      "cell_type": "markdown",
      "metadata": {
        "id": "nAPSlCzCbmoh"
      },
      "source": [
        "#### 39. Create a vector of size 10 with values ranging from 0 to 1, both excluded (★★☆) \n",
        "(**hint**: np.linspace)"
      ]
    },
    {
      "cell_type": "code",
      "execution_count": 38,
      "metadata": {
        "id": "19VXtjcKbmoi",
        "colab": {
          "base_uri": "https://localhost:8080/"
        },
        "outputId": "7f4f1d3b-be9c-485a-dfa6-1a75aab8c9df"
      },
      "outputs": [
        {
          "output_type": "execute_result",
          "data": {
            "text/plain": [
              "array([0.09090909, 0.18181818, 0.27272727, 0.36363636, 0.45454545,\n",
              "       0.54545455, 0.63636364, 0.72727273, 0.81818182, 0.90909091])"
            ]
          },
          "metadata": {},
          "execution_count": 38
        }
      ],
      "source": [
        "vect = np.linspace(0,1,12 , endpoint=True)[1:-1]\n",
        "vect\n"
      ]
    },
    {
      "cell_type": "markdown",
      "metadata": {
        "id": "r-UjJHWDbmoi"
      },
      "source": [
        "#### 40. Create a random vector of size 10 and sort it (★★☆) \n",
        "(**hint**: sort)"
      ]
    },
    {
      "cell_type": "code",
      "execution_count": 39,
      "metadata": {
        "id": "WzPisRZMbmoi",
        "colab": {
          "base_uri": "https://localhost:8080/"
        },
        "outputId": "54a650f2-1018-47db-e861-8488d7688dae"
      },
      "outputs": [
        {
          "output_type": "execute_result",
          "data": {
            "text/plain": [
              "array([ 2, 30, 34, 39, 44, 50, 58, 72, 87, 99])"
            ]
          },
          "metadata": {},
          "execution_count": 39
        }
      ],
      "source": [
        "vect = np.random.randint(1, 100 , 10)\n",
        "a = sort(vect)\n",
        "a"
      ]
    },
    {
      "cell_type": "markdown",
      "metadata": {
        "id": "KcqkMq55bmoi"
      },
      "source": [
        "#### 41. How to sum a small array faster than np.sum? (★★☆) \n",
        "(**hint**: np.add.reduce)"
      ]
    },
    {
      "cell_type": "code",
      "execution_count": 40,
      "metadata": {
        "id": "RKwxZNM0bmoj",
        "colab": {
          "base_uri": "https://localhost:8080/"
        },
        "outputId": "f50f0e30-6b2b-4635-db00-4eebd88b4cf2"
      },
      "outputs": [
        {
          "output_type": "stream",
          "name": "stdout",
          "text": [
            "4950\n"
          ]
        }
      ],
      "source": [
        "arr = np.array(np.arange(100))\n",
        "sum = np.add.reduce(arr)\n",
        "print(sum)"
      ]
    },
    {
      "cell_type": "markdown",
      "metadata": {
        "id": "neacZsfrbmoj"
      },
      "source": [
        "#### 42. Consider two random array A and B, check if they are equal (★★☆) \n",
        "(**hint**: np.allclose, np.array\\_equal)"
      ]
    },
    {
      "cell_type": "code",
      "execution_count": 41,
      "metadata": {
        "id": "Ds2KL5g7bmoj",
        "colab": {
          "base_uri": "https://localhost:8080/"
        },
        "outputId": "ee2c2b60-d2b7-4e20-a264-a9665bf75d34"
      },
      "outputs": [
        {
          "output_type": "stream",
          "name": "stdout",
          "text": [
            "False\n",
            "False\n"
          ]
        }
      ],
      "source": [
        "arr1 = np.array(np.arange(25)).reshape(5,5)\n",
        "arr2 = np.array(np.random.randint(1 ,25 ,25)).reshape(5,5)\n",
        "print(np.allclose(arr1, arr2))\n",
        "print(np.array_equal(arr1 , arr2))"
      ]
    },
    {
      "cell_type": "markdown",
      "metadata": {
        "id": "ruvGLkavbmoj"
      },
      "source": [
        "#### 43. Make an array immutable (read-only) (★★☆) \n",
        "(**hint**: flags.writeable)"
      ]
    },
    {
      "cell_type": "code",
      "execution_count": 42,
      "metadata": {
        "id": "1W0pXT9Fbmok"
      },
      "outputs": [],
      "source": [
        "arr = np.ones(10)\n",
        "arr.flags.writeable = False\n",
        "#if we try  to change any element of array it will through an error"
      ]
    },
    {
      "cell_type": "markdown",
      "metadata": {
        "id": "bSrfOUAfbmok"
      },
      "source": [
        "#### 44. Consider a random 10x2 matrix representing cartesian coordinates, convert them to polar coordinates (★★☆) \n",
        "(**hint**: np.sqrt, np.arctan2)"
      ]
    },
    {
      "cell_type": "code",
      "execution_count": 43,
      "metadata": {
        "id": "27YXNcXobmok",
        "colab": {
          "base_uri": "https://localhost:8080/"
        },
        "outputId": "9c113026-ccea-46b7-da01-e731ca712af0"
      },
      "outputs": [
        {
          "output_type": "stream",
          "name": "stdout",
          "text": [
            "[[6.70820393 1.10714872]\n",
            " [4.12310563 0.24497866]\n",
            " [5.83095189 1.03037683]\n",
            " [7.28010989 1.29249667]\n",
            " [4.24264069 0.78539816]\n",
            " [5.83095189 0.5404195 ]\n",
            " [4.47213595 0.46364761]\n",
            " [7.28010989 1.29249667]\n",
            " [4.12310563 0.24497866]\n",
            " [7.07106781 1.42889927]]\n"
          ]
        }
      ],
      "source": [
        "arr = np.random.randint(1 , 10 , 20).reshape(10,2)\n",
        "\n",
        "x = arr[: , 0]\n",
        "y = arr[: ,1]\n",
        "\n",
        "squ = np.sqrt(x ** 2 + y ** 2).reshape(10,1)\n",
        "theta = np.arctan2(y, x).reshape(10,1)\n",
        "\n",
        "final_arr = np.concatenate((squ , theta), axis = 1)\n",
        "print(final_arr)\n"
      ]
    },
    {
      "cell_type": "markdown",
      "metadata": {
        "id": "MdoEqkJ8bmok"
      },
      "source": [
        "#### 45. Create random vector of size 10 and replace the maximum value by 0 (★★☆) \n",
        "(**hint**: argmax)"
      ]
    },
    {
      "cell_type": "code",
      "execution_count": 44,
      "metadata": {
        "id": "g7HvdEOTbmol",
        "colab": {
          "base_uri": "https://localhost:8080/"
        },
        "outputId": "4804ccfe-0402-4ef0-c9ed-97143b4a37d4"
      },
      "outputs": [
        {
          "output_type": "execute_result",
          "data": {
            "text/plain": [
              "array([0.72152981, 0.        , 0.61176412, 0.46725554, 0.12024755,\n",
              "       0.36500072, 0.84558732, 0.44258415, 0.02309452, 0.66358176])"
            ]
          },
          "metadata": {},
          "execution_count": 44
        }
      ],
      "source": [
        "vect = np.random.random(10)\n",
        "maxi = np.argmax(vect)\n",
        "vect[maxi] = 0\n",
        "vect"
      ]
    },
    {
      "cell_type": "markdown",
      "metadata": {
        "id": "AqJ8_aHSbmol"
      },
      "source": [
        "#### 46. Create a structured array with `x` and `y` coordinates covering the \\[0,1\\]x\\[0,1\\] area (★★☆) \n",
        "(**hint**: np.meshgrid)"
      ]
    },
    {
      "cell_type": "code",
      "execution_count": 44,
      "metadata": {
        "id": "TtvsWbY8bmol"
      },
      "outputs": [],
      "source": []
    },
    {
      "cell_type": "markdown",
      "metadata": {
        "id": "hncMBwIobmol"
      },
      "source": [
        "####  47. Given two arrays, X and Y, construct the Cauchy matrix C (Cij =1/(xi - yj)) \n",
        "(**hint**: np.subtract.outer)"
      ]
    },
    {
      "cell_type": "code",
      "execution_count": 44,
      "metadata": {
        "id": "13shjXV7bmom"
      },
      "outputs": [],
      "source": []
    },
    {
      "cell_type": "markdown",
      "metadata": {
        "id": "48pTSyr0bmom"
      },
      "source": [
        "#### 48. Print the minimum and maximum representable value for each numpy scalar type (★★☆) \n",
        "(**hint**: np.iinfo, np.finfo, eps)"
      ]
    },
    {
      "cell_type": "code",
      "execution_count": 45,
      "metadata": {
        "id": "sVNF5f48bmom",
        "colab": {
          "base_uri": "https://localhost:8080/",
          "height": 461
        },
        "outputId": "97eac5bc-af82-40ff-b64c-6c1c6e25a39b"
      },
      "outputs": [
        {
          "output_type": "stream",
          "name": "stdout",
          "text": [
            "-128\n",
            "127\n",
            "-2147483648\n",
            "2147483647\n",
            "-9223372036854775808\n",
            "9223372036854775807\n"
          ]
        },
        {
          "output_type": "error",
          "ename": "ValueError",
          "evalue": "ignored",
          "traceback": [
            "\u001b[0;31m---------------------------------------------------------------------------\u001b[0m",
            "\u001b[0;31mValueError\u001b[0m                                Traceback (most recent call last)",
            "\u001b[0;32m<ipython-input-45-c8736b6ab830>\u001b[0m in \u001b[0;36m<module>\u001b[0;34m\u001b[0m\n\u001b[1;32m      6\u001b[0m \u001b[0mdata_types\u001b[0m \u001b[0;34m=\u001b[0m \u001b[0;34m[\u001b[0m\u001b[0mnp\u001b[0m\u001b[0;34m.\u001b[0m\u001b[0mint64\u001b[0m\u001b[0;34m]\u001b[0m\u001b[0;34m\u001b[0m\u001b[0;34m\u001b[0m\u001b[0m\n\u001b[1;32m      7\u001b[0m \u001b[0;32mfor\u001b[0m \u001b[0meach\u001b[0m \u001b[0;32min\u001b[0m \u001b[0mdata_types\u001b[0m\u001b[0;34m:\u001b[0m\u001b[0;34m\u001b[0m\u001b[0;34m\u001b[0m\u001b[0m\n\u001b[0;32m----> 8\u001b[0;31m    \u001b[0mprint\u001b[0m\u001b[0;34m(\u001b[0m\u001b[0mnp\u001b[0m\u001b[0;34m.\u001b[0m\u001b[0mfinfo\u001b[0m\u001b[0;34m(\u001b[0m\u001b[0meach\u001b[0m\u001b[0;34m)\u001b[0m\u001b[0;34m.\u001b[0m\u001b[0mmin\u001b[0m\u001b[0;34m)\u001b[0m\u001b[0;34m\u001b[0m\u001b[0;34m\u001b[0m\u001b[0m\n\u001b[0m\u001b[1;32m      9\u001b[0m    \u001b[0mprint\u001b[0m\u001b[0;34m(\u001b[0m\u001b[0mnp\u001b[0m\u001b[0;34m.\u001b[0m\u001b[0mfinfo\u001b[0m\u001b[0;34m(\u001b[0m\u001b[0meach\u001b[0m\u001b[0;34m)\u001b[0m\u001b[0;34m.\u001b[0m\u001b[0mmax\u001b[0m\u001b[0;34m)\u001b[0m\u001b[0;34m\u001b[0m\u001b[0;34m\u001b[0m\u001b[0m\n\u001b[1;32m     10\u001b[0m    \u001b[0mprint\u001b[0m\u001b[0;34m(\u001b[0m\u001b[0mnp\u001b[0m\u001b[0;34m.\u001b[0m\u001b[0mfinfo\u001b[0m\u001b[0;34m(\u001b[0m\u001b[0meach\u001b[0m\u001b[0;34m)\u001b[0m\u001b[0;34m.\u001b[0m\u001b[0meps\u001b[0m\u001b[0;34m)\u001b[0m\u001b[0;34m\u001b[0m\u001b[0;34m\u001b[0m\u001b[0m\n",
            "\u001b[0;32m/usr/local/lib/python3.8/dist-packages/numpy/core/getlimits.py\u001b[0m in \u001b[0;36m__new__\u001b[0;34m(cls, dtype)\u001b[0m\n\u001b[1;32m    396\u001b[0m             \u001b[0mdtype\u001b[0m \u001b[0;34m=\u001b[0m \u001b[0mnewdtype\u001b[0m\u001b[0;34m\u001b[0m\u001b[0;34m\u001b[0m\u001b[0m\n\u001b[1;32m    397\u001b[0m         \u001b[0;32mif\u001b[0m \u001b[0;32mnot\u001b[0m \u001b[0missubclass\u001b[0m\u001b[0;34m(\u001b[0m\u001b[0mdtype\u001b[0m\u001b[0;34m,\u001b[0m \u001b[0mnumeric\u001b[0m\u001b[0;34m.\u001b[0m\u001b[0minexact\u001b[0m\u001b[0;34m)\u001b[0m\u001b[0;34m:\u001b[0m\u001b[0;34m\u001b[0m\u001b[0;34m\u001b[0m\u001b[0m\n\u001b[0;32m--> 398\u001b[0;31m             \u001b[0;32mraise\u001b[0m \u001b[0mValueError\u001b[0m\u001b[0;34m(\u001b[0m\u001b[0;34m\"data type %r not inexact\"\u001b[0m \u001b[0;34m%\u001b[0m \u001b[0;34m(\u001b[0m\u001b[0mdtype\u001b[0m\u001b[0;34m)\u001b[0m\u001b[0;34m)\u001b[0m\u001b[0;34m\u001b[0m\u001b[0;34m\u001b[0m\u001b[0m\n\u001b[0m\u001b[1;32m    399\u001b[0m         \u001b[0mobj\u001b[0m \u001b[0;34m=\u001b[0m \u001b[0mcls\u001b[0m\u001b[0;34m.\u001b[0m\u001b[0m_finfo_cache\u001b[0m\u001b[0;34m.\u001b[0m\u001b[0mget\u001b[0m\u001b[0;34m(\u001b[0m\u001b[0mdtype\u001b[0m\u001b[0;34m,\u001b[0m \u001b[0;32mNone\u001b[0m\u001b[0;34m)\u001b[0m\u001b[0;34m\u001b[0m\u001b[0;34m\u001b[0m\u001b[0m\n\u001b[1;32m    400\u001b[0m         \u001b[0;32mif\u001b[0m \u001b[0mobj\u001b[0m \u001b[0;32mis\u001b[0m \u001b[0;32mnot\u001b[0m \u001b[0;32mNone\u001b[0m\u001b[0;34m:\u001b[0m\u001b[0;34m\u001b[0m\u001b[0;34m\u001b[0m\u001b[0m\n",
            "\u001b[0;31mValueError\u001b[0m: data type <class 'numpy.int64'> not inexact"
          ]
        }
      ],
      "source": [
        "import numpy as np\n",
        "data_types = [np.int8, np.int32, np.int64]\n",
        "for each in data_types:\n",
        "   print(np.iinfo(each).min)\n",
        "   print(np.iinfo(each).max)\n",
        "data_types = [np.int64]\n",
        "for each in data_types:\n",
        "   print(np.finfo(each).min)\n",
        "   print(np.finfo(each).max)\n",
        "   print(np.finfo(each).eps)\n"
      ]
    },
    {
      "cell_type": "markdown",
      "metadata": {
        "id": "KdzQZG61bmom"
      },
      "source": [
        "#### 49. How to print all the values of an array? (★★☆) \n",
        "(**hint**: np.set\\_printoptions)"
      ]
    },
    {
      "cell_type": "code",
      "execution_count": 47,
      "metadata": {
        "id": "rqcSyz56bmon",
        "colab": {
          "base_uri": "https://localhost:8080/"
        },
        "outputId": "928d23a1-a191-41d4-8cf6-8f811baa0dd6"
      },
      "outputs": [
        {
          "output_type": "stream",
          "name": "stdout",
          "text": [
            "[[1. 1. 1. 1. 1.]\n",
            " [1. 1. 1. 1. 1.]\n",
            " [1. 1. 1. 1. 1.]\n",
            " [1. 1. 1. 1. 1.]\n",
            " [1. 1. 1. 1. 1.]]\n"
          ]
        }
      ],
      "source": [
        "np.set_printoptions(threshold=float(\"inf\"))\n",
        "arr = np.ones((5,5))\n",
        "print(arr)\n"
      ]
    },
    {
      "cell_type": "markdown",
      "metadata": {
        "id": "KuNf-Onabmon"
      },
      "source": [
        "#### 50. How to find the closest value (to a given scalar) in a vector? (★★☆) \n",
        "(**hint**: argmin)"
      ]
    },
    {
      "cell_type": "code",
      "execution_count": 48,
      "metadata": {
        "id": "VbkNrrJnbmon",
        "colab": {
          "base_uri": "https://localhost:8080/"
        },
        "outputId": "e72f6811-f181-4352-c959-27230164cda9"
      },
      "outputs": [
        {
          "output_type": "stream",
          "name": "stdout",
          "text": [
            "50\n"
          ]
        }
      ],
      "source": [
        "import numpy as np\n",
        "Z = np.arange(100)\n",
        "v = np.random.uniform(0,100)\n",
        "index = (np.abs(Z-v)).argmin()\n",
        "print(Z[index])"
      ]
    },
    {
      "cell_type": "markdown",
      "metadata": {
        "id": "_OaRq1P3bmon"
      },
      "source": [
        "#### 51. Create a structured array representing a position (x,y) and a color (r,g,b) (★★☆) \n",
        "(**hint**: dtype)"
      ]
    },
    {
      "cell_type": "code",
      "execution_count": 48,
      "metadata": {
        "id": "FDyjTWXZbmon"
      },
      "outputs": [],
      "source": []
    },
    {
      "cell_type": "markdown",
      "metadata": {
        "id": "Q_N9wFZfbmoo"
      },
      "source": [
        "#### 52. Consider a random vector with shape (100,2) representing coordinates, find point by point distances (★★☆) \n",
        "(**hint**: np.atleast\\_2d, T, np.sqrt)"
      ]
    },
    {
      "cell_type": "code",
      "execution_count": 49,
      "metadata": {
        "id": "ooenfXIbbmop"
      },
      "outputs": [],
      "source": [
        "vect = np.random.random((100,2))\n",
        "x = np.atleast_2d(vect[:, 0])\n",
        "y = np.atleast_2d(vect[: ,1])\n",
        "\n",
        "sqr = np.sqrt((x-x.T)**2 + (y-y.T)**2)"
      ]
    },
    {
      "cell_type": "markdown",
      "metadata": {
        "id": "XrUnm_anbmoq"
      },
      "source": [
        "#### 53. How to convert a float (32 bits) array into an integer (32 bits) in place? \n",
        "(**hint**: astype(copy=False))"
      ]
    },
    {
      "cell_type": "code",
      "execution_count": 50,
      "metadata": {
        "id": "V_k82Dn_bmoq",
        "colab": {
          "base_uri": "https://localhost:8080/"
        },
        "outputId": "405928d4-3016-433e-ab99-0ed6135f51ed"
      },
      "outputs": [
        {
          "output_type": "execute_result",
          "data": {
            "text/plain": [
              "dtype('int32')"
            ]
          },
          "metadata": {},
          "execution_count": 50
        }
      ],
      "source": [
        "import numpy as np\n",
        "arr = (np.random.rand(10)* 200 ).astype(np.int32 , copy=False)\n",
        "arr.dtype"
      ]
    },
    {
      "cell_type": "markdown",
      "metadata": {
        "id": "XRYAHsEkbmor"
      },
      "source": [
        "#### 54. How to read the following file? (★★☆) \n",
        "(**hint**: np.genfromtxt)"
      ]
    },
    {
      "cell_type": "markdown",
      "metadata": {
        "id": "6HSpIj4obmos"
      },
      "source": [
        "```\n",
        "1, 2, 3, 4, 5\n",
        "6,  ,  , 7, 8\n",
        " ,  , 9,10,11\n",
        "```"
      ]
    },
    {
      "cell_type": "code",
      "execution_count": 51,
      "metadata": {
        "id": "I_zsn6Sjbmot",
        "colab": {
          "base_uri": "https://localhost:8080/"
        },
        "outputId": "5a79ab1c-8593-45c6-9ed9-6fdfcf375b27"
      },
      "outputs": [
        {
          "output_type": "stream",
          "name": "stderr",
          "text": [
            "<ipython-input-51-798a56872e17>:3: DeprecationWarning: `np.int` is a deprecated alias for the builtin `int`. To silence this warning, use `int` by itself. Doing this will not modify any behavior and is safe. When replacing `np.int`, you may wish to use e.g. `np.int64` or `np.int32` to specify the precision. If you wish to review your current use, check the release note link for additional information.\n",
            "Deprecated in NumPy 1.20; for more details and guidance: https://numpy.org/devdocs/release/1.20.0-notes.html#deprecations\n",
            "  arr = np.genfromtxt(s , delimiter = ',' , dtype = np.int)\n"
          ]
        },
        {
          "output_type": "execute_result",
          "data": {
            "text/plain": [
              "array([ 1,  2,  3,  4,  5,  6, -1, -1,  7,  8, -1,  9, 10, 11])"
            ]
          },
          "metadata": {},
          "execution_count": 51
        }
      ],
      "source": [
        "from io import StringIO\n",
        "s = StringIO(\"1, 2, 3, 4, 5,6,  ,  , 7, 8,  , 9,10,11\")\n",
        "arr = np.genfromtxt(s , delimiter = ',' , dtype = np.int)\n",
        "arr"
      ]
    },
    {
      "cell_type": "markdown",
      "metadata": {
        "id": "SvGsv_OVbmou"
      },
      "source": [
        "#### 55. What is the equivalent of enumerate for numpy arrays? (★★☆) \n",
        "(**hint**: np.ndenumerate, np.ndindex)"
      ]
    },
    {
      "cell_type": "code",
      "execution_count": 52,
      "metadata": {
        "id": "QBYh45KXbmov",
        "colab": {
          "base_uri": "https://localhost:8080/"
        },
        "outputId": "e21a7a32-67d3-43c2-f86b-cf4cef943c64"
      },
      "outputs": [
        {
          "output_type": "stream",
          "name": "stdout",
          "text": [
            "(0, 0) 0\n",
            "(0, 1) 1\n",
            "(0, 2) 2\n",
            "(0, 3) 3\n",
            "(1, 0) 4\n",
            "(1, 1) 5\n",
            "(1, 2) 6\n",
            "(1, 3) 7\n",
            "(2, 0) 8\n",
            "(2, 1) 9\n",
            "(2, 2) 10\n",
            "(2, 3) 11\n",
            "(3, 0) 12\n",
            "(3, 1) 13\n",
            "(3, 2) 14\n",
            "(3, 3) 15\n",
            "(4, 0) 16\n",
            "(4, 1) 17\n",
            "(4, 2) 18\n",
            "(4, 3) 19\n",
            "(5, 0) 20\n",
            "(5, 1) 21\n",
            "(5, 2) 22\n",
            "(5, 3) 23\n",
            "(0, 0) 0\n",
            "(0, 1) 1\n",
            "(0, 2) 2\n",
            "(0, 3) 3\n",
            "(1, 0) 4\n",
            "(1, 1) 5\n",
            "(1, 2) 6\n",
            "(1, 3) 7\n",
            "(2, 0) 8\n",
            "(2, 1) 9\n",
            "(2, 2) 10\n",
            "(2, 3) 11\n",
            "(3, 0) 12\n",
            "(3, 1) 13\n",
            "(3, 2) 14\n",
            "(3, 3) 15\n",
            "(4, 0) 16\n",
            "(4, 1) 17\n",
            "(4, 2) 18\n",
            "(4, 3) 19\n",
            "(5, 0) 20\n",
            "(5, 1) 21\n",
            "(5, 2) 22\n",
            "(5, 3) 23\n"
          ]
        }
      ],
      "source": [
        "arr = np.arange(24).reshape(6,4)\n",
        "\n",
        "for i,j in np.ndenumerate(arr):\n",
        "  print(i, j)\n",
        "\n",
        "for i in np.ndindex(arr.shape):\n",
        "  print(i , arr[i])\n"
      ]
    },
    {
      "cell_type": "markdown",
      "metadata": {
        "id": "oYk-juo8bmov"
      },
      "source": [
        "#### 56. Generate a generic 2D Gaussian-like array (★★☆) \n",
        "(**hint**: np.meshgrid, np.exp)"
      ]
    },
    {
      "cell_type": "code",
      "execution_count": 52,
      "metadata": {
        "id": "vyTA6_p9bmow"
      },
      "outputs": [],
      "source": []
    },
    {
      "cell_type": "markdown",
      "metadata": {
        "id": "G95_eZQybmow"
      },
      "source": [
        "#### 57. How to randomly place p elements in a 2D array? (★★☆) \n",
        "(**hint**: np.put, np.random.choice)"
      ]
    },
    {
      "cell_type": "code",
      "execution_count": 53,
      "metadata": {
        "id": "rZR_uNCfbmow",
        "colab": {
          "base_uri": "https://localhost:8080/"
        },
        "outputId": "5162565a-f488-4929-9730-6a1453fe7c41"
      },
      "outputs": [
        {
          "output_type": "execute_result",
          "data": {
            "text/plain": [
              "array([[[  1,   2,   3],\n",
              "        [  4, 100,   6]],\n",
              "\n",
              "       [[  7, 100,   9],\n",
              "        [ 10,  11,  12]]])"
            ]
          },
          "metadata": {},
          "execution_count": 53
        }
      ],
      "source": [
        "arr = np.array([[[1,2,3], [4,5,6]] , [[7,8,9],[10,11,12]]])\n",
        "p = 3\n",
        "np.put(arr, np.random.choice(range(12) ,p ,replace = True) ,100)\n",
        "arr"
      ]
    },
    {
      "cell_type": "markdown",
      "metadata": {
        "id": "PBQ6r_xzbmox"
      },
      "source": [
        "#### 58. Subtract the mean of each row of a matrix (★★☆) \n",
        "(**hint**: mean(axis=,keepdims=))"
      ]
    },
    {
      "cell_type": "code",
      "execution_count": 54,
      "metadata": {
        "id": "ABj9zE2Zbmox",
        "colab": {
          "base_uri": "https://localhost:8080/"
        },
        "outputId": "2db23c24-c6f9-4059-e0a4-fc9b6b634700"
      },
      "outputs": [
        {
          "output_type": "stream",
          "name": "stdout",
          "text": [
            "[[6 1 1]\n",
            " [7 9 9]\n",
            " [3 7 7]]\n"
          ]
        },
        {
          "output_type": "execute_result",
          "data": {
            "text/plain": [
              "array([[ 3.33333333, -1.66666667, -1.66666667],\n",
              "       [-1.33333333,  0.66666667,  0.66666667],\n",
              "       [-2.66666667,  1.33333333,  1.33333333]])"
            ]
          },
          "metadata": {},
          "execution_count": 54
        }
      ],
      "source": [
        "arr = np.random.randint(1,10 , 9).reshape(3,3)\n",
        "print(arr)\n",
        "arr = arr - arr.mean(axis = 1 , keepdims = True)\n",
        "arr"
      ]
    },
    {
      "cell_type": "markdown",
      "metadata": {
        "id": "v9Jxm0bcbmox"
      },
      "source": [
        "#### 59. How to sort an array by the nth column? (★★☆) \n",
        "(**hint**: argsort)"
      ]
    },
    {
      "cell_type": "code",
      "execution_count": 55,
      "metadata": {
        "id": "oFAQXS2ybmoy",
        "colab": {
          "base_uri": "https://localhost:8080/"
        },
        "outputId": "066ad64d-2e7d-462f-d7ef-e60d1253a4cb"
      },
      "outputs": [
        {
          "output_type": "stream",
          "name": "stdout",
          "text": [
            "[[ 0  9 10 12]\n",
            " [ 9  9  9  1]\n",
            " [11 11  8  9]]\n",
            "[[ 0  9 10 12]\n",
            " [ 9  9  9  1]\n",
            " [11 11  8  9]]\n"
          ]
        }
      ],
      "source": [
        "Z = np.random.randint(0,13,(3,4))\n",
        "print(Z)\n",
        "print(Z[Z[:,1].argsort()])   #sort array according to 1st column "
      ]
    },
    {
      "cell_type": "markdown",
      "metadata": {
        "id": "mB5zU0Hnbmoy"
      },
      "source": [
        "#### 60. How to tell if a given 2D array has null columns? (★★☆) \n",
        "(**hint**: any, ~)"
      ]
    },
    {
      "cell_type": "code",
      "execution_count": 56,
      "metadata": {
        "id": "4qEjbgjPbmoy",
        "colab": {
          "base_uri": "https://localhost:8080/"
        },
        "outputId": "a18de883-ee4a-4636-935e-e932cc36d841"
      },
      "outputs": [
        {
          "output_type": "stream",
          "name": "stdout",
          "text": [
            "False\n"
          ]
        }
      ],
      "source": [
        "arr = np.random.randint(0,13,(3,4))\n",
        "print((~arr.any(axis=0)).any())"
      ]
    },
    {
      "cell_type": "markdown",
      "metadata": {
        "id": "AOkeqmjubmoy"
      },
      "source": [
        "#### 61. Find the nearest value from a given value in an array (★★☆) \n",
        "(**hint**: np.abs, argmin, flat)"
      ]
    },
    {
      "cell_type": "code",
      "execution_count": 57,
      "metadata": {
        "id": "J39vUZPIbmoz",
        "colab": {
          "base_uri": "https://localhost:8080/"
        },
        "outputId": "e576b363-6802-4384-bd59-9147ea0ac9e6"
      },
      "outputs": [
        {
          "output_type": "stream",
          "name": "stdout",
          "text": [
            "[[34.22818022 16.73223059 85.96000482  4.89448247 48.20695588]\n",
            " [ 8.15307203 96.92827423  9.69913171 63.65673637 58.78315107]]\n",
            "4.894482466845673\n"
          ]
        }
      ],
      "source": [
        "arr = (np.random.random(10)*100 ).reshape(2,5)\n",
        "print(arr)\n",
        "m = arr.flat[np.abs(arr).argmin()]\n",
        "print(m)"
      ]
    },
    {
      "cell_type": "markdown",
      "metadata": {
        "id": "Wu6OeEKGbmoz"
      },
      "source": [
        "#### 62. Considering two arrays with shape (1,3) and (3,1), how to compute their sum using an iterator? (★★☆) \n",
        "(**hint**: np.nditer)"
      ]
    },
    {
      "cell_type": "code",
      "execution_count": 58,
      "metadata": {
        "id": "QlFVm2QRbmoz",
        "colab": {
          "base_uri": "https://localhost:8080/"
        },
        "outputId": "85cdce7f-b6b6-47c5-defc-b982c89d94c0"
      },
      "outputs": [
        {
          "output_type": "stream",
          "name": "stdout",
          "text": [
            "<numpy.nditer object at 0x7efcd45c4cb0>\n",
            "[[7 6 7]\n",
            " [6 5 6]\n",
            " [5 4 5]]\n"
          ]
        }
      ],
      "source": [
        "arr1 = np.random.randint(1,5 ,3)\n",
        "arr2 = np.random.randint(1,5,(3,1))\n",
        "it = np.nditer([arr1,arr2,None])\n",
        "print(it)\n",
        "for x,y,z in it: \n",
        "  z[...] = x + y\n",
        "print(it.operands[2])"
      ]
    },
    {
      "cell_type": "markdown",
      "metadata": {
        "id": "I5EpsMLSbmoz"
      },
      "source": [
        "#### 63. Create an array class that has a name attribute (★★☆) \n",
        "(**hint**: class method)"
      ]
    },
    {
      "cell_type": "code",
      "execution_count": 58,
      "metadata": {
        "id": "C6voncT4bmo0"
      },
      "outputs": [],
      "source": []
    },
    {
      "cell_type": "markdown",
      "metadata": {
        "id": "O2LqYyrMbmo0"
      },
      "source": [
        "#### 64. Consider a given vector, how to add 1 to each element indexed by a second vector (be careful with repeated indices)? (★★★) \n",
        "(**hint**: np.bincount | np.add.at)"
      ]
    },
    {
      "cell_type": "code",
      "execution_count": 59,
      "metadata": {
        "id": "O2dTcVKQbmo0",
        "colab": {
          "base_uri": "https://localhost:8080/"
        },
        "outputId": "d47afd10-6aae-4473-f25d-f064a6ac4eef"
      },
      "outputs": [
        {
          "output_type": "stream",
          "name": "stdout",
          "text": [
            "[10  9  8 11 15 14 10 13  4  6]\n",
            "[11 10  8 12 16 15 13 14  4  7]\n"
          ]
        }
      ],
      "source": [
        "arr = np.random.randint(1,20, 10)\n",
        "print(arr)\n",
        "index_val = np.random.randint(0,len(arr),10)\n",
        "np.add.at(arr,index_val,1)\n",
        "print(arr)"
      ]
    },
    {
      "cell_type": "markdown",
      "metadata": {
        "id": "0R8LbI50bmo0"
      },
      "source": [
        "#### 65. How to accumulate elements of a vector (X) to an array (F) based on an index list (I)? (★★★) \n",
        "(**hint**: np.bincount)"
      ]
    },
    {
      "cell_type": "code",
      "execution_count": 59,
      "metadata": {
        "id": "mTQAEwOqbmo1"
      },
      "outputs": [],
      "source": []
    },
    {
      "cell_type": "markdown",
      "metadata": {
        "id": "nF59tLpcbmo1"
      },
      "source": [
        "#### 66. Considering a (w,h,3) image of (dtype=ubyte), compute the number of unique colors (★★★) \n",
        "(**hint**: np.unique)"
      ]
    },
    {
      "cell_type": "code",
      "execution_count": 59,
      "metadata": {
        "id": "qL4R_Oqpbmo1"
      },
      "outputs": [],
      "source": []
    },
    {
      "cell_type": "markdown",
      "metadata": {
        "id": "V3--NZelbmo1"
      },
      "source": [
        "#### 67. Considering a four dimensions array, how to get sum over the last two axis at once? (★★★) \n",
        "(**hint**: sum(axis=(-2,-1)))"
      ]
    },
    {
      "cell_type": "code",
      "execution_count": 60,
      "metadata": {
        "id": "FcFUXPhHbmo2",
        "colab": {
          "base_uri": "https://localhost:8080/"
        },
        "outputId": "d381e91f-b4d5-4b89-cf1e-8026a98aebac"
      },
      "outputs": [
        {
          "output_type": "stream",
          "name": "stdout",
          "text": [
            "[[[[ 67  91]\n",
            "   [  3 181]\n",
            "   [123   6]]\n",
            "\n",
            "  [[158  89]\n",
            "   [ 40 122]\n",
            "   [ 18  34]]]\n",
            "\n",
            "\n",
            " [[[ 88 184]\n",
            "   [199  78]\n",
            "   [173   6]]\n",
            "\n",
            "  [[ 50 190]\n",
            "   [195 184]\n",
            "   [ 13  72]]]\n",
            "\n",
            "\n",
            " [[[130 107]\n",
            "   [ 18  42]\n",
            "   [175  92]]\n",
            "\n",
            "  [[ 99 195]\n",
            "   [114 115]\n",
            "   [134  57]]]]\n",
            "[[471 461]\n",
            " [728 704]\n",
            " [564 714]]\n"
          ]
        }
      ],
      "source": [
        "arr = np.random.randint(1,200 ,(3,2,3,2))\n",
        "print(arr)\n",
        "print(arr.sum(axis = (-2,-1)))"
      ]
    },
    {
      "cell_type": "markdown",
      "metadata": {
        "id": "T8fvn80Zbmo2"
      },
      "source": [
        "#### 68. Considering a one-dimensional vector D, how to compute means of subsets of D using a vector S of same size describing subset  indices? (★★★) \n",
        "(**hint**: np.bincount)"
      ]
    },
    {
      "cell_type": "code",
      "execution_count": 61,
      "metadata": {
        "id": "VHfeuXDhbmo2",
        "colab": {
          "base_uri": "https://localhost:8080/"
        },
        "outputId": "7164058c-c562-49c8-e522-2cc171479843"
      },
      "outputs": [
        {
          "output_type": "stream",
          "name": "stdout",
          "text": [
            "[0.19475741        nan 0.28464284 0.37906546 0.26689614 0.10886903\n",
            "        nan 0.34669673 0.39020611 0.37577219]\n"
          ]
        }
      ],
      "source": [
        "D = np.random.uniform(0,1,10)\n",
        "S = np.random.randint(0,10,10)\n",
        "D_sums = np.bincount(S, weights=D)\n",
        "D_counts = np.bincount(S)\n",
        "D_means = D_sums / D_counts\n",
        "print(D_means)"
      ]
    },
    {
      "cell_type": "markdown",
      "metadata": {
        "id": "i5P_H-S3bmo3"
      },
      "source": [
        "#### 69. How to get the diagonal of a dot product? (★★★) \n",
        "(**hint**: np.diag)"
      ]
    },
    {
      "cell_type": "code",
      "execution_count": 62,
      "metadata": {
        "id": "UC9vFc_ybmo3",
        "colab": {
          "base_uri": "https://localhost:8080/"
        },
        "outputId": "c0441d31-7703-4c0e-c958-bc9b5246a290"
      },
      "outputs": [
        {
          "output_type": "stream",
          "name": "stdout",
          "text": [
            "[292 148 126  84]\n"
          ]
        }
      ],
      "source": [
        "arr1 = np.random.randint(0,9,(4,4))\n",
        "arr2 = np.random.randint(0,20,(4,4))\n",
        "dot_diagonal = np.diag(np.dot(arr1,arr2))\n",
        "print(dot_diagonal)"
      ]
    },
    {
      "cell_type": "markdown",
      "metadata": {
        "id": "c6xPwWUdbmo3"
      },
      "source": [
        "#### 70. Consider the vector \\[1, 2, 3, 4, 5\\], how to build a new vector with 3 consecutive zeros interleaved between each value? (★★★) \n",
        "(**hint**: array\\[::4\\])"
      ]
    },
    {
      "cell_type": "code",
      "execution_count": 63,
      "metadata": {
        "id": "A9El7Lq9bmo4",
        "colab": {
          "base_uri": "https://localhost:8080/"
        },
        "outputId": "228a4de5-6539-4cf3-ed45-7c0ec65425a0"
      },
      "outputs": [
        {
          "output_type": "stream",
          "name": "stdout",
          "text": [
            "[1. 0. 0. 0. 2. 0. 0. 0. 3. 0. 0. 0. 4. 0. 0. 0. 5.]\n"
          ]
        }
      ],
      "source": [
        "import numpy as np\n",
        "arr = np.array([1,2,3,4,5])\n",
        "nz = 3\n",
        "Z0 = np.zeros(len(arr) + (len(arr)-1)*(nz))\n",
        "Z0[::nz+1] = arr\n",
        "print(Z0)"
      ]
    },
    {
      "cell_type": "markdown",
      "metadata": {
        "id": "29ILIEIxbmo4"
      },
      "source": [
        "#### 71. Consider an array of dimension (5,5,3), how to mulitply it by an array with dimensions (5,5)? (★★★) \n",
        "(**hint**: array\\[:, :, None\\])"
      ]
    },
    {
      "cell_type": "code",
      "execution_count": 64,
      "metadata": {
        "collapsed": true,
        "id": "sxn6Vs7lbmo7",
        "colab": {
          "base_uri": "https://localhost:8080/"
        },
        "outputId": "86bf7ea6-f667-4b63-b8d3-530c2f9a9373"
      },
      "outputs": [
        {
          "output_type": "stream",
          "name": "stdout",
          "text": [
            "[[[2.62603615 6.88867525 0.37914596]\n",
            "  [4.92488149 0.7611517  4.58213051]\n",
            "  [4.98478201 1.99180771 1.85851065]\n",
            "  [0.96513061 0.62685423 0.88686489]\n",
            "  [4.81838745 4.81014367 7.8081846 ]]\n",
            "\n",
            " [[0.97043914 0.68252425 0.50529748]\n",
            "  [0.54762388 2.16338188 4.48268049]\n",
            "  [2.91872918 5.6786227  4.97461971]\n",
            "  [7.74778893 1.01847944 2.37338129]\n",
            "  [2.30629354 2.56709477 2.05638397]]\n",
            "\n",
            " [[5.88243826 3.34668914 5.21147968]\n",
            "  [3.31308629 2.34291145 5.18950251]\n",
            "  [0.73132335 0.32035879 1.94633484]\n",
            "  [0.99306759 0.33685849 0.56330454]\n",
            "  [1.55606304 0.35003766 6.29122906]]\n",
            "\n",
            " [[0.50489981 0.26385422 1.45450472]\n",
            "  [2.95279904 0.73412154 5.43174088]\n",
            "  [7.81209801 2.20000968 2.38396699]\n",
            "  [2.55961288 5.52245407 3.67897844]\n",
            "  [0.181027   0.12501389 0.64750883]]\n",
            "\n",
            " [[0.78785875 1.8629631  0.66800607]\n",
            "  [3.80499964 0.03834394 2.54532696]\n",
            "  [0.31692679 0.54036934 1.7276167 ]\n",
            "  [4.29816931 6.08918874 5.26753092]\n",
            "  [1.96139761 1.46957832 0.40925924]]]\n"
          ]
        }
      ],
      "source": [
        "arr1 = np.random.random(75).reshape(5,5,3)\n",
        "arr2 = np.random.randint(1,10,25).reshape(5,5)\n",
        "print(arr1 * arr2[:,:,None])\n"
      ]
    },
    {
      "cell_type": "markdown",
      "metadata": {
        "id": "pPpO0ACPbmo8"
      },
      "source": [
        "#### 72. How to swap two rows of an array? (★★★) \n",
        "(**hint**: array\\[\\[\\]\\] = array\\[\\[\\]\\])"
      ]
    },
    {
      "cell_type": "code",
      "execution_count": 65,
      "metadata": {
        "id": "NWVVJWUybmo9",
        "colab": {
          "base_uri": "https://localhost:8080/"
        },
        "outputId": "c0aca35a-7117-4167-9825-e996bde02f64"
      },
      "outputs": [
        {
          "output_type": "stream",
          "name": "stdout",
          "text": [
            "[[ 1  2]\n",
            " [ 3  4]\n",
            " [ 5  6]\n",
            " [ 7  8]\n",
            " [ 9 10]]\n"
          ]
        },
        {
          "output_type": "execute_result",
          "data": {
            "text/plain": [
              "array([[ 7,  8],\n",
              "       [ 3,  4],\n",
              "       [ 5,  6],\n",
              "       [ 1,  2],\n",
              "       [ 9, 10]])"
            ]
          },
          "metadata": {},
          "execution_count": 65
        }
      ],
      "source": [
        "arr = np.arange(1,11).reshape(5,2)\n",
        "print(arr)\n",
        "arr[[0,3]]= arr[[3,0]]\n",
        "arr"
      ]
    },
    {
      "cell_type": "markdown",
      "metadata": {
        "id": "csUzoJqzbmpA"
      },
      "source": [
        "#### 73. Consider a set of 10 triplets describing 10 triangles (with shared vertices), find the set of unique line segments composing all the  triangles (★★★) \n",
        "(**hint**: repeat, np.roll, np.sort, view, np.unique)"
      ]
    },
    {
      "cell_type": "code",
      "execution_count": 65,
      "metadata": {
        "id": "pyJC4GhIbmpB"
      },
      "outputs": [],
      "source": []
    },
    {
      "cell_type": "markdown",
      "metadata": {
        "id": "NF7nSxtEbmpB"
      },
      "source": [
        "#### 74. Given an array C that is a bincount, how to produce an array A such that np.bincount(A) == C? (★★★) \n",
        "(**hint**: np.repeat)"
      ]
    },
    {
      "cell_type": "code",
      "execution_count": 65,
      "metadata": {
        "id": "4Cz2OfB3bmpB"
      },
      "outputs": [],
      "source": []
    },
    {
      "cell_type": "markdown",
      "metadata": {
        "id": "R-WQVZ_1bmpC"
      },
      "source": [
        "#### 75. How to compute averages using a sliding window over an array? (★★★) \n"
      ]
    },
    {
      "cell_type": "code",
      "execution_count": 65,
      "metadata": {
        "id": "R-IhoViXbmpC"
      },
      "outputs": [],
      "source": []
    },
    {
      "cell_type": "markdown",
      "metadata": {
        "id": "zaie7YdAbmpD"
      },
      "source": [
        "#### 76. Consider a one-dimensional array Z, build a two-dimensional array whose first row is (Z\\[0\\],Z\\[1\\],Z\\[2\\]) and each subsequent row is  shifted by 1 (last row should be (Z\\[-3\\],Z\\[-2\\],Z\\[-1\\]) (★★★) \n",
        "(**hint**: from numpy.lib import stride_tricks)"
      ]
    },
    {
      "cell_type": "code",
      "execution_count": 65,
      "metadata": {
        "id": "dCYwkbMmbmpE"
      },
      "outputs": [],
      "source": []
    },
    {
      "cell_type": "markdown",
      "metadata": {
        "id": "a1jLVJtYbmpE"
      },
      "source": [
        "#### 77. How to negate a boolean, or to change the sign of a float inplace? (★★★) \n",
        "(**hint**: np.logical_not, np.negative)"
      ]
    },
    {
      "cell_type": "code",
      "execution_count": 66,
      "metadata": {
        "id": "N-uYB5ZEbmpF",
        "colab": {
          "base_uri": "https://localhost:8080/"
        },
        "outputId": "74ad06b5-344d-4b79-d169-08431084746e"
      },
      "outputs": [
        {
          "output_type": "stream",
          "name": "stdout",
          "text": [
            "[4 6 5 6 1 8 9 1 6 8 6 4 4 2 9 9 1 6 7 7]\n",
            "[-0.21796048  0.15891862  0.20209483  0.48632627 -0.07686904  0.01477291\n",
            "  0.60627219  0.19318726  0.38915339 -0.84158042]\n"
          ]
        },
        {
          "output_type": "execute_result",
          "data": {
            "text/plain": [
              "array([ 0.21796048, -0.15891862, -0.20209483, -0.48632627,  0.07686904,\n",
              "       -0.01477291, -0.60627219, -0.19318726, -0.38915339,  0.84158042])"
            ]
          },
          "metadata": {},
          "execution_count": 66
        }
      ],
      "source": [
        "import numpy as np\n",
        "arr  = np.random.randint(0,10 ,20)\n",
        "print(arr)\n",
        "np.logical_not(arr , out=arr)\n",
        "\n",
        "arr1 = np.random.uniform(-1.0 , 1 ,10)\n",
        "print(arr1)\n",
        "np.negative(arr1 , out = arr1)"
      ]
    },
    {
      "cell_type": "markdown",
      "metadata": {
        "id": "KkB0e4pTbmpG"
      },
      "source": [
        "#### 78. Consider 2 sets of points P0,P1 describing lines (2d) and a point p, how to compute distance from p to each line i  (P0\\[i\\],P1\\[i\\])? (★★★)"
      ]
    },
    {
      "cell_type": "code",
      "execution_count": 66,
      "metadata": {
        "id": "KKoTroVUbmpK"
      },
      "outputs": [],
      "source": []
    },
    {
      "cell_type": "markdown",
      "metadata": {
        "id": "8T4_y3dabmpK"
      },
      "source": [
        "#### 79. Consider 2 sets of points P0,P1 describing lines (2d) and a set of points P, how to compute distance from each point j (P\\[j\\]) to each line i (P0\\[i\\],P1\\[i\\])? (★★★)"
      ]
    },
    {
      "cell_type": "code",
      "execution_count": 66,
      "metadata": {
        "id": "GO9WDd4XbmpL"
      },
      "outputs": [],
      "source": []
    },
    {
      "cell_type": "markdown",
      "metadata": {
        "id": "8ksJW-wNbmpL"
      },
      "source": [
        "#### 80. Consider an arbitrary array, write a function that extract a subpart with a fixed shape and centered on a given element (pad with a `fill` value when necessary) (★★★) \n",
        "(**hint**: minimum, maximum)"
      ]
    },
    {
      "cell_type": "code",
      "execution_count": 66,
      "metadata": {
        "id": "HkoaVHAVbmpL"
      },
      "outputs": [],
      "source": []
    },
    {
      "cell_type": "markdown",
      "metadata": {
        "id": "tbxuQrMXbmpM"
      },
      "source": [
        "#### 81. Consider an array Z = \\[1,2,3,4,5,6,7,8,9,10,11,12,13,14\\], how to generate an array R = \\[\\[1,2,3,4\\], \\[2,3,4,5\\], \\[3,4,5,6\\], ..., \\[11,12,13,14\\]\\]? (★★★) \n",
        "(**hint**: stride\\_tricks.as\\_strided)"
      ]
    },
    {
      "cell_type": "code",
      "execution_count": 67,
      "metadata": {
        "id": "j39e-s1ObmpM",
        "colab": {
          "base_uri": "https://localhost:8080/"
        },
        "outputId": "6d656d61-8c93-4f88-c25a-83c2c0283cdc"
      },
      "outputs": [
        {
          "output_type": "execute_result",
          "data": {
            "text/plain": [
              "array([[ 1,  2,  3,  4],\n",
              "       [ 2,  3,  4,  5],\n",
              "       [ 3,  4,  5,  6],\n",
              "       [ 4,  5,  6,  7],\n",
              "       [ 5,  6,  7,  8],\n",
              "       [ 6,  7,  8,  9],\n",
              "       [ 7,  8,  9, 10],\n",
              "       [ 8,  9, 10, 11],\n",
              "       [ 9, 10, 11, 12],\n",
              "       [10, 11, 12, 13],\n",
              "       [11, 12, 13, 14]])"
            ]
          },
          "metadata": {},
          "execution_count": 67
        }
      ],
      "source": [
        "import numpy as np\n",
        "Z = np.array([1,2,3,4,5,6,7,8,9,10,11,12,13,14])\n",
        "arr_shape = (11,4)\n",
        "arr_stride = (Z.itemsize , Z.itemsize)\n",
        "np.lib.stride_tricks.as_strided(Z , arr_shape , arr_stride)"
      ]
    },
    {
      "cell_type": "markdown",
      "metadata": {
        "id": "RkWmcbiAbmpN"
      },
      "source": [
        "#### 82. Compute a matrix rank (★★★) \n",
        "(**hint**: np.linalg.svd) (suggestion: np.linalg.svd)"
      ]
    },
    {
      "cell_type": "code",
      "execution_count": 67,
      "metadata": {
        "id": "WV8N2UPIbmpP"
      },
      "outputs": [],
      "source": []
    },
    {
      "cell_type": "markdown",
      "metadata": {
        "id": "q7Mn-fFxbmpQ"
      },
      "source": [
        "#### 83. How to find the most frequent value in an array? \n",
        "(**hint**: np.bincount, argmax)"
      ]
    },
    {
      "cell_type": "code",
      "execution_count": 68,
      "metadata": {
        "id": "OpOVPr58bmpQ",
        "colab": {
          "base_uri": "https://localhost:8080/"
        },
        "outputId": "a80d3d7b-b5fd-4eb6-bba7-2162f53d41bf"
      },
      "outputs": [
        {
          "output_type": "execute_result",
          "data": {
            "text/plain": [
              "array([0, 1, 1, 1, 1, 3, 0, 2, 0, 1, 5])"
            ]
          },
          "metadata": {},
          "execution_count": 68
        }
      ],
      "source": [
        "arr= np.array([1,2,3,4,5,5,5,7,7,9,10,10,10,10,10])\n",
        "np.bincount(arr)"
      ]
    },
    {
      "cell_type": "markdown",
      "metadata": {
        "id": "Do6ZRk1gbmpQ"
      },
      "source": [
        "#### 84. Extract all the contiguous 3x3 blocks from a random 10x10 matrix (★★★) \n",
        "(**hint**: stride\\_tricks.as\\_strided)"
      ]
    },
    {
      "cell_type": "code",
      "execution_count": 69,
      "metadata": {
        "id": "dnTbgLR5bmpR",
        "colab": {
          "base_uri": "https://localhost:8080/"
        },
        "outputId": "fd25ad06-b540-465b-a6c7-b9c0d93d0135"
      },
      "outputs": [
        {
          "output_type": "stream",
          "name": "stdout",
          "text": [
            "Original arrays:\n",
            "[[3 4 4 4 4 2 0 2 1 4]\n",
            " [1 2 0 1 2 0 4 4 4 3]\n",
            " [0 0 3 4 3 0 0 2 4 3]\n",
            " [4 2 4 4 2 2 0 4 4 1]\n",
            " [3 0 2 3 3 1 0 1 3 2]\n",
            " [0 3 2 4 1 0 4 2 4 1]\n",
            " [0 4 4 1 0 3 3 4 2 3]\n",
            " [0 1 2 2 3 2 2 0 2 0]\n",
            " [2 2 4 4 0 0 3 1 0 1]\n",
            " [2 4 1 2 4 0 1 2 2 3]]\n",
            "\n",
            "Contiguous 4x4 blocks:\n",
            "[[[[                   3                    4                    4\n",
            "                       4]\n",
            "   [                   1                    2                    0\n",
            "                       1]\n",
            "   [                   0                    0                    3\n",
            "                       4]\n",
            "   [                   4                    2                    4\n",
            "                       4]]\n",
            "\n",
            "  [[                   4                    4                    4\n",
            "                       4]\n",
            "   [                   2                    0                    1\n",
            "                       2]\n",
            "   [                   0                    3                    4\n",
            "                       3]\n",
            "   [                   2                    4                    4\n",
            "                       2]]\n",
            "\n",
            "  [[                   4                    4                    4\n",
            "                       2]\n",
            "   [                   0                    1                    2\n",
            "                       0]\n",
            "   [                   3                    4                    3\n",
            "                       0]\n",
            "   [                   4                    4                    2\n",
            "                       2]]\n",
            "\n",
            "  [[                   4                    4                    2\n",
            "                       0]\n",
            "   [                   1                    2                    0\n",
            "                       4]\n",
            "   [                   4                    3                    0\n",
            "                       0]\n",
            "   [                   4                    2                    2\n",
            "                       0]]\n",
            "\n",
            "  [[                   4                    2                    0\n",
            "                       2]\n",
            "   [                   2                    0                    4\n",
            "                       4]\n",
            "   [                   3                    0                    0\n",
            "                       2]\n",
            "   [                   2                    2                    0\n",
            "                       4]]\n",
            "\n",
            "  [[                   2                    0                    2\n",
            "                       1]\n",
            "   [                   0                    4                    4\n",
            "                       4]\n",
            "   [                   0                    0                    2\n",
            "                       4]\n",
            "   [                   2                    0                    4\n",
            "                       4]]\n",
            "\n",
            "  [[                   0                    2                    1\n",
            "                       4]\n",
            "   [                   4                    4                    4\n",
            "                       3]\n",
            "   [                   0                    2                    4\n",
            "                       3]\n",
            "   [                   0                    4                    4\n",
            "                       1]]\n",
            "\n",
            "  [[                   2                    1                    4\n",
            "                       1]\n",
            "   [                   4                    4                    3\n",
            "                       0]\n",
            "   [                   2                    4                    3\n",
            "                       4]\n",
            "   [                   4                    4                    1\n",
            "                       3]]]\n",
            "\n",
            "\n",
            " [[[                   1                    2                    0\n",
            "                       1]\n",
            "   [                   0                    0                    3\n",
            "                       4]\n",
            "   [                   4                    2                    4\n",
            "                       4]\n",
            "   [                   3                    0                    2\n",
            "                       3]]\n",
            "\n",
            "  [[                   2                    0                    1\n",
            "                       2]\n",
            "   [                   0                    3                    4\n",
            "                       3]\n",
            "   [                   2                    4                    4\n",
            "                       2]\n",
            "   [                   0                    2                    3\n",
            "                       3]]\n",
            "\n",
            "  [[                   0                    1                    2\n",
            "                       0]\n",
            "   [                   3                    4                    3\n",
            "                       0]\n",
            "   [                   4                    4                    2\n",
            "                       2]\n",
            "   [                   2                    3                    3\n",
            "                       1]]\n",
            "\n",
            "  [[                   1                    2                    0\n",
            "                       4]\n",
            "   [                   4                    3                    0\n",
            "                       0]\n",
            "   [                   4                    2                    2\n",
            "                       0]\n",
            "   [                   3                    3                    1\n",
            "                       0]]\n",
            "\n",
            "  [[                   2                    0                    4\n",
            "                       4]\n",
            "   [                   3                    0                    0\n",
            "                       2]\n",
            "   [                   2                    2                    0\n",
            "                       4]\n",
            "   [                   3                    1                    0\n",
            "                       1]]\n",
            "\n",
            "  [[                   0                    4                    4\n",
            "                       4]\n",
            "   [                   0                    0                    2\n",
            "                       4]\n",
            "   [                   2                    0                    4\n",
            "                       4]\n",
            "   [                   1                    0                    1\n",
            "                       3]]\n",
            "\n",
            "  [[                   4                    4                    4\n",
            "                       3]\n",
            "   [                   0                    2                    4\n",
            "                       3]\n",
            "   [                   0                    4                    4\n",
            "                       1]\n",
            "   [                   0                    1                    3\n",
            "                       2]]\n",
            "\n",
            "  [[                   4                    4                    3\n",
            "                       0]\n",
            "   [                   2                    4                    3\n",
            "                       4]\n",
            "   [                   4                    4                    1\n",
            "                       3]\n",
            "   [                   1                    3                    2\n",
            "                       0]]]\n",
            "\n",
            "\n",
            " [[[                   0                    0                    3\n",
            "                       4]\n",
            "   [                   4                    2                    4\n",
            "                       4]\n",
            "   [                   3                    0                    2\n",
            "                       3]\n",
            "   [                   0                    3                    2\n",
            "                       4]]\n",
            "\n",
            "  [[                   0                    3                    4\n",
            "                       3]\n",
            "   [                   2                    4                    4\n",
            "                       2]\n",
            "   [                   0                    2                    3\n",
            "                       3]\n",
            "   [                   3                    2                    4\n",
            "                       1]]\n",
            "\n",
            "  [[                   3                    4                    3\n",
            "                       0]\n",
            "   [                   4                    4                    2\n",
            "                       2]\n",
            "   [                   2                    3                    3\n",
            "                       1]\n",
            "   [                   2                    4                    1\n",
            "                       0]]\n",
            "\n",
            "  [[                   4                    3                    0\n",
            "                       0]\n",
            "   [                   4                    2                    2\n",
            "                       0]\n",
            "   [                   3                    3                    1\n",
            "                       0]\n",
            "   [                   4                    1                    0\n",
            "                       4]]\n",
            "\n",
            "  [[                   3                    0                    0\n",
            "                       2]\n",
            "   [                   2                    2                    0\n",
            "                       4]\n",
            "   [                   3                    1                    0\n",
            "                       1]\n",
            "   [                   1                    0                    4\n",
            "                       2]]\n",
            "\n",
            "  [[                   0                    0                    2\n",
            "                       4]\n",
            "   [                   2                    0                    4\n",
            "                       4]\n",
            "   [                   1                    0                    1\n",
            "                       3]\n",
            "   [                   0                    4                    2\n",
            "                       4]]\n",
            "\n",
            "  [[                   0                    2                    4\n",
            "                       3]\n",
            "   [                   0                    4                    4\n",
            "                       1]\n",
            "   [                   0                    1                    3\n",
            "                       2]\n",
            "   [                   4                    2                    4\n",
            "                       1]]\n",
            "\n",
            "  [[                   2                    4                    3\n",
            "                       4]\n",
            "   [                   4                    4                    1\n",
            "                       3]\n",
            "   [                   1                    3                    2\n",
            "                       0]\n",
            "   [                   2                    4                    1\n",
            "                       0]]]\n",
            "\n",
            "\n",
            " [[[                   4                    2                    4\n",
            "                       4]\n",
            "   [                   3                    0                    2\n",
            "                       3]\n",
            "   [                   0                    3                    2\n",
            "                       4]\n",
            "   [                   0                    4                    4\n",
            "                       1]]\n",
            "\n",
            "  [[                   2                    4                    4\n",
            "                       2]\n",
            "   [                   0                    2                    3\n",
            "                       3]\n",
            "   [                   3                    2                    4\n",
            "                       1]\n",
            "   [                   4                    4                    1\n",
            "                       0]]\n",
            "\n",
            "  [[                   4                    4                    2\n",
            "                       2]\n",
            "   [                   2                    3                    3\n",
            "                       1]\n",
            "   [                   2                    4                    1\n",
            "                       0]\n",
            "   [                   4                    1                    0\n",
            "                       3]]\n",
            "\n",
            "  [[                   4                    2                    2\n",
            "                       0]\n",
            "   [                   3                    3                    1\n",
            "                       0]\n",
            "   [                   4                    1                    0\n",
            "                       4]\n",
            "   [                   1                    0                    3\n",
            "                       3]]\n",
            "\n",
            "  [[                   2                    2                    0\n",
            "                       4]\n",
            "   [                   3                    1                    0\n",
            "                       1]\n",
            "   [                   1                    0                    4\n",
            "                       2]\n",
            "   [                   0                    3                    3\n",
            "                       4]]\n",
            "\n",
            "  [[                   2                    0                    4\n",
            "                       4]\n",
            "   [                   1                    0                    1\n",
            "                       3]\n",
            "   [                   0                    4                    2\n",
            "                       4]\n",
            "   [                   3                    3                    4\n",
            "                       2]]\n",
            "\n",
            "  [[                   0                    4                    4\n",
            "                       1]\n",
            "   [                   0                    1                    3\n",
            "                       2]\n",
            "   [                   4                    2                    4\n",
            "                       1]\n",
            "   [                   3                    4                    2\n",
            "                       3]]\n",
            "\n",
            "  [[                   4                    4                    1\n",
            "                       3]\n",
            "   [                   1                    3                    2\n",
            "                       0]\n",
            "   [                   2                    4                    1\n",
            "                       0]\n",
            "   [                   4                    2                    3\n",
            "                       0]]]\n",
            "\n",
            "\n",
            " [[[                   3                    0                    2\n",
            "                       3]\n",
            "   [                   0                    3                    2\n",
            "                       4]\n",
            "   [                   0                    4                    4\n",
            "                       1]\n",
            "   [                   0                    1                    2\n",
            "                       2]]\n",
            "\n",
            "  [[                   0                    2                    3\n",
            "                       3]\n",
            "   [                   3                    2                    4\n",
            "                       1]\n",
            "   [                   4                    4                    1\n",
            "                       0]\n",
            "   [                   1                    2                    2\n",
            "                       3]]\n",
            "\n",
            "  [[                   2                    3                    3\n",
            "                       1]\n",
            "   [                   2                    4                    1\n",
            "                       0]\n",
            "   [                   4                    1                    0\n",
            "                       3]\n",
            "   [                   2                    2                    3\n",
            "                       2]]\n",
            "\n",
            "  [[                   3                    3                    1\n",
            "                       0]\n",
            "   [                   4                    1                    0\n",
            "                       4]\n",
            "   [                   1                    0                    3\n",
            "                       3]\n",
            "   [                   2                    3                    2\n",
            "                       2]]\n",
            "\n",
            "  [[                   3                    1                    0\n",
            "                       1]\n",
            "   [                   1                    0                    4\n",
            "                       2]\n",
            "   [                   0                    3                    3\n",
            "                       4]\n",
            "   [                   3                    2                    2\n",
            "                       0]]\n",
            "\n",
            "  [[                   1                    0                    1\n",
            "                       3]\n",
            "   [                   0                    4                    2\n",
            "                       4]\n",
            "   [                   3                    3                    4\n",
            "                       2]\n",
            "   [                   2                    2                    0\n",
            "                       2]]\n",
            "\n",
            "  [[                   0                    1                    3\n",
            "                       2]\n",
            "   [                   4                    2                    4\n",
            "                       1]\n",
            "   [                   3                    4                    2\n",
            "                       3]\n",
            "   [                   2                    0                    2\n",
            "                       0]]\n",
            "\n",
            "  [[                   1                    3                    2\n",
            "                       0]\n",
            "   [                   2                    4                    1\n",
            "                       0]\n",
            "   [                   4                    2                    3\n",
            "                       0]\n",
            "   [                   0                    2                    0\n",
            "                       2]]]\n",
            "\n",
            "\n",
            " [[[                   0                    3                    2\n",
            "                       4]\n",
            "   [                   0                    4                    4\n",
            "                       1]\n",
            "   [                   0                    1                    2\n",
            "                       2]\n",
            "   [                   2                    2                    4\n",
            "                       4]]\n",
            "\n",
            "  [[                   3                    2                    4\n",
            "                       1]\n",
            "   [                   4                    4                    1\n",
            "                       0]\n",
            "   [                   1                    2                    2\n",
            "                       3]\n",
            "   [                   2                    4                    4\n",
            "                       0]]\n",
            "\n",
            "  [[                   2                    4                    1\n",
            "                       0]\n",
            "   [                   4                    1                    0\n",
            "                       3]\n",
            "   [                   2                    2                    3\n",
            "                       2]\n",
            "   [                   4                    4                    0\n",
            "                       0]]\n",
            "\n",
            "  [[                   4                    1                    0\n",
            "                       4]\n",
            "   [                   1                    0                    3\n",
            "                       3]\n",
            "   [                   2                    3                    2\n",
            "                       2]\n",
            "   [                   4                    0                    0\n",
            "                       3]]\n",
            "\n",
            "  [[                   1                    0                    4\n",
            "                       2]\n",
            "   [                   0                    3                    3\n",
            "                       4]\n",
            "   [                   3                    2                    2\n",
            "                       0]\n",
            "   [                   0                    0                    3\n",
            "                       1]]\n",
            "\n",
            "  [[                   0                    4                    2\n",
            "                       4]\n",
            "   [                   3                    3                    4\n",
            "                       2]\n",
            "   [                   2                    2                    0\n",
            "                       2]\n",
            "   [                   0                    3                    1\n",
            "                       0]]\n",
            "\n",
            "  [[                   4                    2                    4\n",
            "                       1]\n",
            "   [                   3                    4                    2\n",
            "                       3]\n",
            "   [                   2                    0                    2\n",
            "                       0]\n",
            "   [                   3                    1                    0\n",
            "                       1]]\n",
            "\n",
            "  [[                   2                    4                    1\n",
            "                       0]\n",
            "   [                   4                    2                    3\n",
            "                       0]\n",
            "   [                   0                    2                    0\n",
            "                       2]\n",
            "   [                   1                    0                    1\n",
            "                       2]]]\n",
            "\n",
            "\n",
            " [[[                   0                    4                    4\n",
            "                       1]\n",
            "   [                   0                    1                    2\n",
            "                       2]\n",
            "   [                   2                    2                    4\n",
            "                       4]\n",
            "   [                   2                    4                    1\n",
            "                       2]]\n",
            "\n",
            "  [[                   4                    4                    1\n",
            "                       0]\n",
            "   [                   1                    2                    2\n",
            "                       3]\n",
            "   [                   2                    4                    4\n",
            "                       0]\n",
            "   [                   4                    1                    2\n",
            "                       4]]\n",
            "\n",
            "  [[                   4                    1                    0\n",
            "                       3]\n",
            "   [                   2                    2                    3\n",
            "                       2]\n",
            "   [                   4                    4                    0\n",
            "                       0]\n",
            "   [                   1                    2                    4\n",
            "                       0]]\n",
            "\n",
            "  [[                   1                    0                    3\n",
            "                       3]\n",
            "   [                   2                    3                    2\n",
            "                       2]\n",
            "   [                   4                    0                    0\n",
            "                       3]\n",
            "   [                   2                    4                    0\n",
            "                       1]]\n",
            "\n",
            "  [[                   0                    3                    3\n",
            "                       4]\n",
            "   [                   3                    2                    2\n",
            "                       0]\n",
            "   [                   0                    0                    3\n",
            "                       1]\n",
            "   [                   4                    0                    1\n",
            "                       2]]\n",
            "\n",
            "  [[                   3                    3                    4\n",
            "                       2]\n",
            "   [                   2                    2                    0\n",
            "                       2]\n",
            "   [                   0                    3                    1\n",
            "                       0]\n",
            "   [                   0                    1                    2\n",
            "                       2]]\n",
            "\n",
            "  [[                   3                    4                    2\n",
            "                       3]\n",
            "   [                   2                    0                    2\n",
            "                       0]\n",
            "   [                   3                    1                    0\n",
            "                       1]\n",
            "   [                   1                    2                    2\n",
            "                       3]]\n",
            "\n",
            "  [[                   4                    2                    3\n",
            "                       0]\n",
            "   [                   0                    2                    0\n",
            "                       2]\n",
            "   [                   1                    0                    1\n",
            "                       2]\n",
            "   [                   2                    2                    3\n",
            "                       0]]]\n",
            "\n",
            "\n",
            " [[[                   0                    1                    2\n",
            "                       2]\n",
            "   [                   2                    2                    4\n",
            "                       4]\n",
            "   [                   2                    4                    1\n",
            "                       2]\n",
            "   [                   0                    0                    0\n",
            "                       0]]\n",
            "\n",
            "  [[                   1                    2                    2\n",
            "                       3]\n",
            "   [                   2                    4                    4\n",
            "                       0]\n",
            "   [                   4                    1                    2\n",
            "                       4]\n",
            "   [                   0                    0                    0\n",
            "    -4591107242156012963]]\n",
            "\n",
            "  [[                   2                    2                    3\n",
            "                       2]\n",
            "   [                   4                    4                    0\n",
            "                       0]\n",
            "   [                   1                    2                    4\n",
            "                       0]\n",
            "   [                   0                    0 -4591107242156012963\n",
            "    -4591247979644368291]]\n",
            "\n",
            "  [[                   2                    3                    2\n",
            "                       2]\n",
            "   [                   4                    0                    0\n",
            "                       3]\n",
            "   [                   2                    4                    0\n",
            "                       1]\n",
            "   [                   0 -4591107242156012963 -4591247979644368291\n",
            "    -4591388717132723619]]\n",
            "\n",
            "  [[                   3                    2                    2\n",
            "                       0]\n",
            "   [                   0                    0                    3\n",
            "                       1]\n",
            "   [                   4                    0                    1\n",
            "                       2]\n",
            "   [-4591107242156012963 -4591247979644368291 -4591388717132723619\n",
            "    -4591529454621078947]]\n",
            "\n",
            "  [[                   2                    2                    0\n",
            "                       2]\n",
            "   [                   0                    3                    1\n",
            "                       0]\n",
            "   [                   0                    1                    2\n",
            "                       2]\n",
            "   [-4591247979644368291 -4591388717132723619 -4591529454621078947\n",
            "    -4591670192109434275]]\n",
            "\n",
            "  [[                   2                    0                    2\n",
            "                       0]\n",
            "   [                   3                    1                    0\n",
            "                       1]\n",
            "   [                   1                    2                    2\n",
            "                       3]\n",
            "   [-4591388717132723619 -4591529454621078947 -4591670192109434275\n",
            "    -4591810929597789603]]\n",
            "\n",
            "  [[                   0                    2                    0\n",
            "                       2]\n",
            "   [                   1                    0                    1\n",
            "                       2]\n",
            "   [                   2                    2                    3\n",
            "                       0]\n",
            "   [-4591529454621078947 -4591670192109434275 -4591810929597789603\n",
            "    -4591951667086144931]]]]\n"
          ]
        }
      ],
      "source": [
        "import numpy as np\n",
        "arra1 = np.random.randint(0,5,(10,10))\n",
        "print(\"Original arrays:\")\n",
        "print(arra1)\n",
        "n = 4\n",
        "i = 1 + (arra1.shape[0]-3)\n",
        "j = 1 + (arra1.shape[1]-3)\n",
        "result = np.lib.stride_tricks.as_strided(arra1, shape=(i, j, n, n), strides = arra1.strides + arra1.strides)\n",
        "print(\"\\nContiguous 4x4 blocks:\")\n",
        "print(result)\n"
      ]
    },
    {
      "cell_type": "markdown",
      "metadata": {
        "id": "Emu65NP4bmpR"
      },
      "source": [
        "#### 85. Create a 2D array subclass such that Z\\[i,j\\] == Z\\[j,i\\] (★★★) \n",
        "(**hint**: class method)"
      ]
    },
    {
      "cell_type": "code",
      "execution_count": 69,
      "metadata": {
        "id": "U1fLJkeSbmpR"
      },
      "outputs": [],
      "source": []
    },
    {
      "cell_type": "markdown",
      "metadata": {
        "id": "WVdSF312bmpS"
      },
      "source": [
        "#### 86. Consider a set of p matrices wich shape (n,n) and a set of p vectors with shape (n,1). How to compute the sum of of the p matrix products at once? (result has shape (n,1)) (★★★) \n",
        "(**hint**: np.tensordot)"
      ]
    },
    {
      "cell_type": "code",
      "execution_count": 69,
      "metadata": {
        "id": "bFTnXzI-bmpS"
      },
      "outputs": [],
      "source": []
    },
    {
      "cell_type": "markdown",
      "metadata": {
        "id": "ZcER5De6bmpS"
      },
      "source": [
        "#### 87. Consider a 16x16 array, how to get the block-sum (block size is 4x4)? (★★★) \n",
        "(**hint**: np.add.reduceat)"
      ]
    },
    {
      "cell_type": "code",
      "execution_count": 69,
      "metadata": {
        "id": "Z_XGU0WLbmpS"
      },
      "outputs": [],
      "source": []
    },
    {
      "cell_type": "markdown",
      "metadata": {
        "id": "AWaNurutbmpT"
      },
      "source": [
        "#### 88. How to implement the Game of Life using numpy arrays? (★★★)"
      ]
    },
    {
      "cell_type": "code",
      "execution_count": 69,
      "metadata": {
        "id": "TptMNVC8bmpT"
      },
      "outputs": [],
      "source": []
    },
    {
      "cell_type": "markdown",
      "metadata": {
        "id": "SDB7bOa6bmpT"
      },
      "source": [
        "#### 89. How to get the n largest values of an array (★★★) \n",
        "(**hint**: np.argsort | np.argpartition)"
      ]
    },
    {
      "cell_type": "code",
      "execution_count": 69,
      "metadata": {
        "id": "v2gD18TGbmpT"
      },
      "outputs": [],
      "source": []
    },
    {
      "cell_type": "markdown",
      "metadata": {
        "id": "G7GR3AzPbmpT"
      },
      "source": [
        "#### 90. Given an arbitrary number of vectors, build the cartesian product (every combinations of every item) (★★★) \n",
        "(**hint**: np.indices)"
      ]
    },
    {
      "cell_type": "code",
      "execution_count": 69,
      "metadata": {
        "scrolled": true,
        "id": "FSO1ihRhbmpU"
      },
      "outputs": [],
      "source": []
    },
    {
      "cell_type": "markdown",
      "metadata": {
        "id": "AKWHSpVfbmpU"
      },
      "source": [
        "#### 91. How to create a record array from a regular array? (★★★) \n",
        "(**hint**: np.core.records.fromarrays)"
      ]
    },
    {
      "cell_type": "code",
      "execution_count": 69,
      "metadata": {
        "id": "K4SINmDAbmpU"
      },
      "outputs": [],
      "source": []
    },
    {
      "cell_type": "markdown",
      "metadata": {
        "id": "khtiEkkfbmpU"
      },
      "source": [
        "#### 92. Consider a large vector Z, compute Z to the power of 3 using 3 different methods (★★★) \n",
        "(**hint**: np.power, \\*, np.einsum)"
      ]
    },
    {
      "cell_type": "code",
      "execution_count": 69,
      "metadata": {
        "id": "YI6f2OzsbmpV"
      },
      "outputs": [],
      "source": []
    },
    {
      "cell_type": "markdown",
      "metadata": {
        "id": "IQyO7_XmbmpV"
      },
      "source": [
        "#### 93. Consider two arrays A and B of shape (8,3) and (2,2). How to find rows of A that contain elements of each row of B regardless of the order of the elements in B? (★★★) \n",
        "(**hint**: np.where)"
      ]
    },
    {
      "cell_type": "code",
      "execution_count": 69,
      "metadata": {
        "id": "EhRmClZfbmpV"
      },
      "outputs": [],
      "source": []
    },
    {
      "cell_type": "markdown",
      "metadata": {
        "id": "HPn_5m9ibmpV"
      },
      "source": [
        "#### 94. Considering a 10x3 matrix, extract rows with unequal values (e.g. \\[2,2,3\\]) (★★★)"
      ]
    },
    {
      "cell_type": "code",
      "execution_count": 69,
      "metadata": {
        "id": "ZZ-w0ZM-bmpV"
      },
      "outputs": [],
      "source": []
    },
    {
      "cell_type": "markdown",
      "metadata": {
        "id": "rkZUp25YbmpW"
      },
      "source": [
        "#### 95. Convert a vector of ints into a matrix binary representation (★★★) \n",
        "(**hint**: np.unpackbits)"
      ]
    },
    {
      "cell_type": "code",
      "execution_count": 69,
      "metadata": {
        "id": "g9zFYvQ1bmpW"
      },
      "outputs": [],
      "source": []
    },
    {
      "cell_type": "markdown",
      "metadata": {
        "id": "UafqCUGrbmpW"
      },
      "source": [
        "#### 96. Given a two dimensional array, how to extract unique rows? (★★★) \n",
        "(**hint**: np.ascontiguousarray)"
      ]
    },
    {
      "cell_type": "code",
      "execution_count": 69,
      "metadata": {
        "id": "f7P81NkebmpW"
      },
      "outputs": [],
      "source": []
    },
    {
      "cell_type": "markdown",
      "metadata": {
        "id": "lz1NxmxYbmpX"
      },
      "source": [
        "#### 97. Considering 2 vectors A & B, write the einsum equivalent of inner, outer, sum, and mul function (★★★) \n",
        "(**hint**: np.einsum)"
      ]
    },
    {
      "cell_type": "code",
      "execution_count": 69,
      "metadata": {
        "id": "eMN0banlbmpX"
      },
      "outputs": [],
      "source": []
    },
    {
      "cell_type": "markdown",
      "metadata": {
        "id": "ZJWwVBGnbmpX"
      },
      "source": [
        "#### 98. Considering a path described by two vectors (X,Y), how to sample it using equidistant samples (★★★)? \n",
        "(**hint**: np.cumsum, np.interp)"
      ]
    },
    {
      "cell_type": "code",
      "execution_count": 69,
      "metadata": {
        "collapsed": true,
        "id": "l0Te0uJcbmpY"
      },
      "outputs": [],
      "source": []
    },
    {
      "cell_type": "markdown",
      "metadata": {
        "id": "fGBbekfabmpY"
      },
      "source": [
        "#### 99. Given an integer n and a 2D array X, select from X the rows which can be interpreted as draws from a multinomial distribution with n degrees, i.e., the rows which only contain integers and which sum to n. (★★★) \n",
        "(**hint**: np.logical\\_and.reduce, np.mod)"
      ]
    },
    {
      "cell_type": "code",
      "execution_count": 69,
      "metadata": {
        "id": "pZHKAgivbmpY"
      },
      "outputs": [],
      "source": []
    },
    {
      "cell_type": "markdown",
      "metadata": {
        "id": "V53fbSM9bmpZ"
      },
      "source": [
        "#### 100. Compute bootstrapped 95% confidence intervals for the mean of a 1D array X (i.e., resample the elements of an array with replacement N times, compute the mean of each sample, and then compute percentiles over the means). (★★★) \n",
        "(**hint**: np.percentile)"
      ]
    },
    {
      "cell_type": "code",
      "execution_count": 70,
      "metadata": {
        "id": "mxukEQURbmpZ",
        "colab": {
          "base_uri": "https://localhost:8080/"
        },
        "outputId": "52189caa-b454-425d-d27e-4b95784e1f22"
      },
      "outputs": [
        {
          "output_type": "stream",
          "name": "stdout",
          "text": [
            "[36.9425 71.8025]\n"
          ]
        }
      ],
      "source": [
        "N = 100\n",
        "arr = np.random.randint(1,100 , 10)\n",
        "idx = np.random.randint(0, arr.size, (N, arr.size))\n",
        "means = arr[idx].mean(axis=1)\n",
        "Interval = np.percentile(means, [2.5, 97.5])\n",
        "print(Interval)"
      ]
    },
    {
      "cell_type": "code",
      "source": [],
      "metadata": {
        "id": "VuoxALhugT5e"
      },
      "execution_count": 70,
      "outputs": []
    }
  ],
  "metadata": {
    "kernelspec": {
      "display_name": "Python 3",
      "language": "python",
      "name": "python3"
    },
    "language_info": {
      "codemirror_mode": {
        "name": "ipython",
        "version": 3
      },
      "file_extension": ".py",
      "mimetype": "text/x-python",
      "name": "python",
      "nbconvert_exporter": "python",
      "pygments_lexer": "ipython3",
      "version": "3.8.3"
    },
    "colab": {
      "provenance": []
    }
  },
  "nbformat": 4,
  "nbformat_minor": 0
}